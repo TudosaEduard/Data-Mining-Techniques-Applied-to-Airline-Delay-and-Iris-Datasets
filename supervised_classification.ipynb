{
  "nbformat": 4,
  "nbformat_minor": 0,
  "metadata": {
    "colab": {
      "provenance": []
    },
    "kernelspec": {
      "name": "python3",
      "display_name": "Python 3"
    },
    "language_info": {
      "name": "python"
    },
    "accelerator": "GPU",
    "gpuClass": "standard"
  },
  "cells": [
    {
      "cell_type": "markdown",
      "source": [
        "# Data Mining - Task 3\n",
        "\n",
        "For your chosen dataset, perform supervised classification using well-established algorithms. This task guides you through all the steps in a machine learning pipeline (data pre-processing, feature selection, hyperparameter tuning and the actual model training and evaluation). The 8 algorithms that must be used are: **Logistic Regression, DecisionTrees, RandomForrest or ExtraTrees, XGBoost, Naive Bayes, k-NN, NeuralNetworks, SVM**.\n",
        "\n",
        "**Details:**\n",
        "\n",
        "* Pre-processing:\n",
        "    * Check if the target is imbalanced and define a plan for handling it (eg. oversampling the minority class, SMOTE)\n",
        "    * Check if your data has a temporal aspect to it and plan the experiment methodology accordingly\n",
        "    * Perform feature selection (filter)\n",
        "* Define experiment methodology (or model methodology):\n",
        "    * Define the method for hyperparameter tuning\n",
        "    * Define the method for model evaluation\n",
        "    * Defined tracked metrics (you must use at least precision & recall)\n",
        "      * Are there any other metrics which are a better fit for your data?\n",
        "* For each model:\n",
        "    * State the parameters names and the values which will be tested\n",
        "    * Plot the tracked metrics evolution during hyperparameter tuning\n",
        "    * Be ready to argument which one is the best combination\n",
        "* With the best hyperparameters for each model:\n",
        "    * Visually plot the model (at least for tree-based models)\n",
        "    * Plot the confusion matrix, report accuracy, precision, recall, F1-measure\n",
        "    * Plot the train/test accuracy\n",
        "    * Plot the decision boundaries in order to observe how they differ and what conclusions can be drawn\n",
        "* Perform a stacking experiment of the best models from the previous step\n"
      ],
      "metadata": {
        "id": "_jbDKcEffmxE"
      }
    },
    {
      "cell_type": "markdown",
      "source": [
        "Import the library"
      ],
      "metadata": {
        "id": "GxFQpMXwpoFC"
      }
    },
    {
      "cell_type": "code",
      "source": [
        "import numpy as np\n",
        "import pandas as pd\n",
        "import matplotlib.pyplot as plt\n",
        "import seaborn as sns\n",
        "import scipy.stats as stats\n",
        "\n",
        "from sklearn.preprocessing import LabelEncoder\n",
        "from sklearn.utils import resample\n",
        "from sklearn.model_selection import KFold\n",
        "from sklearn.metrics import confusion_matrix\n",
        "from sklearn.metrics import accuracy_score, f1_score, precision_score, recall_score\n",
        "\n",
        "from sklearn.tree import DecisionTreeClassifier\n",
        "from sklearn.ensemble import RandomForestClassifier\n",
        "from sklearn.linear_model import LogisticRegression\n",
        "from sklearn.naive_bayes import GaussianNB\n",
        "from sklearn.neighbors import KNeighborsClassifier\n",
        "from sklearn import svm\n",
        "from xgboost import XGBClassifier\n",
        "\n",
        "import keras\n",
        "from keras.models import Sequential\n",
        "from keras.layers import Dense\n",
        "from keras.layers import Dropout"
      ],
      "metadata": {
        "id": "NOKjHTJJpZOJ"
      },
      "execution_count": null,
      "outputs": []
    },
    {
      "cell_type": "markdown",
      "source": [
        "About the dataset"
      ],
      "metadata": {
        "id": "UIwPzCi4ptwb"
      }
    },
    {
      "cell_type": "code",
      "source": [
        "### Read the airline dataset csv and print the tabel(some lines)\n",
        "\n",
        "airlines = pd.read_csv(\"airlines_delay.csv\")\n",
        "airlines.head()"
      ],
      "metadata": {
        "colab": {
          "base_uri": "https://localhost:8080/",
          "height": 206
        },
        "id": "_TPsrFxMp695",
        "outputId": "acdaf7ee-aa48-4c0a-f38e-aaac2e82ad8b"
      },
      "execution_count": null,
      "outputs": [
        {
          "output_type": "execute_result",
          "data": {
            "text/plain": [
              "   Flight    Time  Length Airline AirportFrom AirportTo  DayOfWeek  Class\n",
              "0  2313.0  1296.0   141.0      DL         ATL       HOU          1      0\n",
              "1  6948.0   360.0   146.0      OO         COS       ORD          4      0\n",
              "2  1247.0  1170.0   143.0      B6         BOS       CLT          3      0\n",
              "3    31.0  1410.0   344.0      US         OGG       PHX          6      0\n",
              "4   563.0   692.0    98.0      FL         BMI       ATL          4      0"
            ],
            "text/html": [
              "\n",
              "  <div id=\"df-440056c0-2a30-4314-a449-a8f3fd61128d\">\n",
              "    <div class=\"colab-df-container\">\n",
              "      <div>\n",
              "<style scoped>\n",
              "    .dataframe tbody tr th:only-of-type {\n",
              "        vertical-align: middle;\n",
              "    }\n",
              "\n",
              "    .dataframe tbody tr th {\n",
              "        vertical-align: top;\n",
              "    }\n",
              "\n",
              "    .dataframe thead th {\n",
              "        text-align: right;\n",
              "    }\n",
              "</style>\n",
              "<table border=\"1\" class=\"dataframe\">\n",
              "  <thead>\n",
              "    <tr style=\"text-align: right;\">\n",
              "      <th></th>\n",
              "      <th>Flight</th>\n",
              "      <th>Time</th>\n",
              "      <th>Length</th>\n",
              "      <th>Airline</th>\n",
              "      <th>AirportFrom</th>\n",
              "      <th>AirportTo</th>\n",
              "      <th>DayOfWeek</th>\n",
              "      <th>Class</th>\n",
              "    </tr>\n",
              "  </thead>\n",
              "  <tbody>\n",
              "    <tr>\n",
              "      <th>0</th>\n",
              "      <td>2313.0</td>\n",
              "      <td>1296.0</td>\n",
              "      <td>141.0</td>\n",
              "      <td>DL</td>\n",
              "      <td>ATL</td>\n",
              "      <td>HOU</td>\n",
              "      <td>1</td>\n",
              "      <td>0</td>\n",
              "    </tr>\n",
              "    <tr>\n",
              "      <th>1</th>\n",
              "      <td>6948.0</td>\n",
              "      <td>360.0</td>\n",
              "      <td>146.0</td>\n",
              "      <td>OO</td>\n",
              "      <td>COS</td>\n",
              "      <td>ORD</td>\n",
              "      <td>4</td>\n",
              "      <td>0</td>\n",
              "    </tr>\n",
              "    <tr>\n",
              "      <th>2</th>\n",
              "      <td>1247.0</td>\n",
              "      <td>1170.0</td>\n",
              "      <td>143.0</td>\n",
              "      <td>B6</td>\n",
              "      <td>BOS</td>\n",
              "      <td>CLT</td>\n",
              "      <td>3</td>\n",
              "      <td>0</td>\n",
              "    </tr>\n",
              "    <tr>\n",
              "      <th>3</th>\n",
              "      <td>31.0</td>\n",
              "      <td>1410.0</td>\n",
              "      <td>344.0</td>\n",
              "      <td>US</td>\n",
              "      <td>OGG</td>\n",
              "      <td>PHX</td>\n",
              "      <td>6</td>\n",
              "      <td>0</td>\n",
              "    </tr>\n",
              "    <tr>\n",
              "      <th>4</th>\n",
              "      <td>563.0</td>\n",
              "      <td>692.0</td>\n",
              "      <td>98.0</td>\n",
              "      <td>FL</td>\n",
              "      <td>BMI</td>\n",
              "      <td>ATL</td>\n",
              "      <td>4</td>\n",
              "      <td>0</td>\n",
              "    </tr>\n",
              "  </tbody>\n",
              "</table>\n",
              "</div>\n",
              "      <button class=\"colab-df-convert\" onclick=\"convertToInteractive('df-440056c0-2a30-4314-a449-a8f3fd61128d')\"\n",
              "              title=\"Convert this dataframe to an interactive table.\"\n",
              "              style=\"display:none;\">\n",
              "        \n",
              "  <svg xmlns=\"http://www.w3.org/2000/svg\" height=\"24px\"viewBox=\"0 0 24 24\"\n",
              "       width=\"24px\">\n",
              "    <path d=\"M0 0h24v24H0V0z\" fill=\"none\"/>\n",
              "    <path d=\"M18.56 5.44l.94 2.06.94-2.06 2.06-.94-2.06-.94-.94-2.06-.94 2.06-2.06.94zm-11 1L8.5 8.5l.94-2.06 2.06-.94-2.06-.94L8.5 2.5l-.94 2.06-2.06.94zm10 10l.94 2.06.94-2.06 2.06-.94-2.06-.94-.94-2.06-.94 2.06-2.06.94z\"/><path d=\"M17.41 7.96l-1.37-1.37c-.4-.4-.92-.59-1.43-.59-.52 0-1.04.2-1.43.59L10.3 9.45l-7.72 7.72c-.78.78-.78 2.05 0 2.83L4 21.41c.39.39.9.59 1.41.59.51 0 1.02-.2 1.41-.59l7.78-7.78 2.81-2.81c.8-.78.8-2.07 0-2.86zM5.41 20L4 18.59l7.72-7.72 1.47 1.35L5.41 20z\"/>\n",
              "  </svg>\n",
              "      </button>\n",
              "      \n",
              "  <style>\n",
              "    .colab-df-container {\n",
              "      display:flex;\n",
              "      flex-wrap:wrap;\n",
              "      gap: 12px;\n",
              "    }\n",
              "\n",
              "    .colab-df-convert {\n",
              "      background-color: #E8F0FE;\n",
              "      border: none;\n",
              "      border-radius: 50%;\n",
              "      cursor: pointer;\n",
              "      display: none;\n",
              "      fill: #1967D2;\n",
              "      height: 32px;\n",
              "      padding: 0 0 0 0;\n",
              "      width: 32px;\n",
              "    }\n",
              "\n",
              "    .colab-df-convert:hover {\n",
              "      background-color: #E2EBFA;\n",
              "      box-shadow: 0px 1px 2px rgba(60, 64, 67, 0.3), 0px 1px 3px 1px rgba(60, 64, 67, 0.15);\n",
              "      fill: #174EA6;\n",
              "    }\n",
              "\n",
              "    [theme=dark] .colab-df-convert {\n",
              "      background-color: #3B4455;\n",
              "      fill: #D2E3FC;\n",
              "    }\n",
              "\n",
              "    [theme=dark] .colab-df-convert:hover {\n",
              "      background-color: #434B5C;\n",
              "      box-shadow: 0px 1px 3px 1px rgba(0, 0, 0, 0.15);\n",
              "      filter: drop-shadow(0px 1px 2px rgba(0, 0, 0, 0.3));\n",
              "      fill: #FFFFFF;\n",
              "    }\n",
              "  </style>\n",
              "\n",
              "      <script>\n",
              "        const buttonEl =\n",
              "          document.querySelector('#df-440056c0-2a30-4314-a449-a8f3fd61128d button.colab-df-convert');\n",
              "        buttonEl.style.display =\n",
              "          google.colab.kernel.accessAllowed ? 'block' : 'none';\n",
              "\n",
              "        async function convertToInteractive(key) {\n",
              "          const element = document.querySelector('#df-440056c0-2a30-4314-a449-a8f3fd61128d');\n",
              "          const dataTable =\n",
              "            await google.colab.kernel.invokeFunction('convertToInteractive',\n",
              "                                                     [key], {});\n",
              "          if (!dataTable) return;\n",
              "\n",
              "          const docLinkHtml = 'Like what you see? Visit the ' +\n",
              "            '<a target=\"_blank\" href=https://colab.research.google.com/notebooks/data_table.ipynb>data table notebook</a>'\n",
              "            + ' to learn more about interactive tables.';\n",
              "          element.innerHTML = '';\n",
              "          dataTable['output_type'] = 'display_data';\n",
              "          await google.colab.output.renderOutput(dataTable, element);\n",
              "          const docLink = document.createElement('div');\n",
              "          docLink.innerHTML = docLinkHtml;\n",
              "          element.appendChild(docLink);\n",
              "        }\n",
              "      </script>\n",
              "    </div>\n",
              "  </div>\n",
              "  "
            ]
          },
          "metadata": {},
          "execution_count": 2
        }
      ]
    },
    {
      "cell_type": "code",
      "source": [
        "airlines.shape"
      ],
      "metadata": {
        "colab": {
          "base_uri": "https://localhost:8080/"
        },
        "id": "FWemAMDarKbG",
        "outputId": "77d0b94b-a795-4262-cee0-83ee2eabd62a"
      },
      "execution_count": null,
      "outputs": [
        {
          "output_type": "execute_result",
          "data": {
            "text/plain": [
              "(539382, 8)"
            ]
          },
          "metadata": {},
          "execution_count": 27
        }
      ]
    },
    {
      "cell_type": "code",
      "source": [
        "airlines.columns"
      ],
      "metadata": {
        "colab": {
          "base_uri": "https://localhost:8080/"
        },
        "id": "AFj10RLms9Wt",
        "outputId": "965cb83f-368d-4651-ea0d-13e48ac9888c"
      },
      "execution_count": null,
      "outputs": [
        {
          "output_type": "execute_result",
          "data": {
            "text/plain": [
              "Index(['Flight', 'Time', 'Length', 'Airline', 'AirportFrom', 'AirportTo',\n",
              "       'DayOfWeek', 'Class'],\n",
              "      dtype='object')"
            ]
          },
          "metadata": {},
          "execution_count": 28
        }
      ]
    },
    {
      "cell_type": "code",
      "source": [
        "### Null or missing values\n",
        "\n",
        "airlines.isna().sum()"
      ],
      "metadata": {
        "colab": {
          "base_uri": "https://localhost:8080/"
        },
        "id": "G5AoK8GAsvGG",
        "outputId": "cd05f48c-9fbb-4739-e79a-9f4e2602d091"
      },
      "execution_count": null,
      "outputs": [
        {
          "output_type": "execute_result",
          "data": {
            "text/plain": [
              "Flight         0\n",
              "Time           0\n",
              "Length         0\n",
              "Airline        0\n",
              "AirportFrom    0\n",
              "AirportTo      0\n",
              "DayOfWeek      0\n",
              "Class          0\n",
              "dtype: int64"
            ]
          },
          "metadata": {},
          "execution_count": 29
        }
      ]
    },
    {
      "cell_type": "code",
      "source": [
        "### Our data is already cleaned there is no any null or missing values."
      ],
      "metadata": {
        "id": "ueX7DGgnwGbD"
      },
      "execution_count": null,
      "outputs": []
    },
    {
      "cell_type": "code",
      "source": [
        "### Duplicate values\n",
        "\n",
        "airlines.nunique()"
      ],
      "metadata": {
        "colab": {
          "base_uri": "https://localhost:8080/"
        },
        "id": "AQv6PhoAs1r6",
        "outputId": "6531b656-bb89-4449-81fb-1364707daeca"
      },
      "execution_count": null,
      "outputs": [
        {
          "output_type": "execute_result",
          "data": {
            "text/plain": [
              "Flight         6585\n",
              "Time           1131\n",
              "Length          426\n",
              "Airline          18\n",
              "AirportFrom     293\n",
              "AirportTo       293\n",
              "DayOfWeek         7\n",
              "Class             2\n",
              "dtype: int64"
            ]
          },
          "metadata": {},
          "execution_count": 30
        }
      ]
    },
    {
      "cell_type": "code",
      "source": [
        "airlines.nunique().sum()"
      ],
      "metadata": {
        "colab": {
          "base_uri": "https://localhost:8080/"
        },
        "id": "pc0EE7KGtyhW",
        "outputId": "15c8be51-8c50-4f40-98d8-a8547dd0b889"
      },
      "execution_count": null,
      "outputs": [
        {
          "output_type": "execute_result",
          "data": {
            "text/plain": [
              "8755"
            ]
          },
          "metadata": {},
          "execution_count": 31
        }
      ]
    },
    {
      "cell_type": "code",
      "source": [
        "### Some Statistical information\n",
        "\n",
        "airlines.describe().T"
      ],
      "metadata": {
        "colab": {
          "base_uri": "https://localhost:8080/",
          "height": 206
        },
        "id": "eeDsvDpct8VX",
        "outputId": "ac1ccfd7-df83-428d-8cfd-06bc45d3dfcf"
      },
      "execution_count": null,
      "outputs": [
        {
          "output_type": "execute_result",
          "data": {
            "text/plain": [
              "              count         mean          std   min    25%     50%     75%  \\\n",
              "Flight     539382.0  2427.927988  2067.431700   1.0  712.0  1809.0  3745.0   \n",
              "Time       539382.0   802.728161   278.045546  10.0  565.0   795.0  1035.0   \n",
              "Length     539382.0   132.202104    70.117045   0.0   81.0   115.0   162.0   \n",
              "DayOfWeek  539382.0     3.929666     1.914666   1.0    2.0     4.0     5.0   \n",
              "Class      539382.0     0.445443     0.497015   0.0    0.0     0.0     1.0   \n",
              "\n",
              "              max  \n",
              "Flight     7814.0  \n",
              "Time       1439.0  \n",
              "Length      655.0  \n",
              "DayOfWeek     7.0  \n",
              "Class         1.0  "
            ],
            "text/html": [
              "\n",
              "  <div id=\"df-c1d74aa6-aebf-4cf1-82e5-10e450c0c550\">\n",
              "    <div class=\"colab-df-container\">\n",
              "      <div>\n",
              "<style scoped>\n",
              "    .dataframe tbody tr th:only-of-type {\n",
              "        vertical-align: middle;\n",
              "    }\n",
              "\n",
              "    .dataframe tbody tr th {\n",
              "        vertical-align: top;\n",
              "    }\n",
              "\n",
              "    .dataframe thead th {\n",
              "        text-align: right;\n",
              "    }\n",
              "</style>\n",
              "<table border=\"1\" class=\"dataframe\">\n",
              "  <thead>\n",
              "    <tr style=\"text-align: right;\">\n",
              "      <th></th>\n",
              "      <th>count</th>\n",
              "      <th>mean</th>\n",
              "      <th>std</th>\n",
              "      <th>min</th>\n",
              "      <th>25%</th>\n",
              "      <th>50%</th>\n",
              "      <th>75%</th>\n",
              "      <th>max</th>\n",
              "    </tr>\n",
              "  </thead>\n",
              "  <tbody>\n",
              "    <tr>\n",
              "      <th>Flight</th>\n",
              "      <td>539382.0</td>\n",
              "      <td>2427.927988</td>\n",
              "      <td>2067.431700</td>\n",
              "      <td>1.0</td>\n",
              "      <td>712.0</td>\n",
              "      <td>1809.0</td>\n",
              "      <td>3745.0</td>\n",
              "      <td>7814.0</td>\n",
              "    </tr>\n",
              "    <tr>\n",
              "      <th>Time</th>\n",
              "      <td>539382.0</td>\n",
              "      <td>802.728161</td>\n",
              "      <td>278.045546</td>\n",
              "      <td>10.0</td>\n",
              "      <td>565.0</td>\n",
              "      <td>795.0</td>\n",
              "      <td>1035.0</td>\n",
              "      <td>1439.0</td>\n",
              "    </tr>\n",
              "    <tr>\n",
              "      <th>Length</th>\n",
              "      <td>539382.0</td>\n",
              "      <td>132.202104</td>\n",
              "      <td>70.117045</td>\n",
              "      <td>0.0</td>\n",
              "      <td>81.0</td>\n",
              "      <td>115.0</td>\n",
              "      <td>162.0</td>\n",
              "      <td>655.0</td>\n",
              "    </tr>\n",
              "    <tr>\n",
              "      <th>DayOfWeek</th>\n",
              "      <td>539382.0</td>\n",
              "      <td>3.929666</td>\n",
              "      <td>1.914666</td>\n",
              "      <td>1.0</td>\n",
              "      <td>2.0</td>\n",
              "      <td>4.0</td>\n",
              "      <td>5.0</td>\n",
              "      <td>7.0</td>\n",
              "    </tr>\n",
              "    <tr>\n",
              "      <th>Class</th>\n",
              "      <td>539382.0</td>\n",
              "      <td>0.445443</td>\n",
              "      <td>0.497015</td>\n",
              "      <td>0.0</td>\n",
              "      <td>0.0</td>\n",
              "      <td>0.0</td>\n",
              "      <td>1.0</td>\n",
              "      <td>1.0</td>\n",
              "    </tr>\n",
              "  </tbody>\n",
              "</table>\n",
              "</div>\n",
              "      <button class=\"colab-df-convert\" onclick=\"convertToInteractive('df-c1d74aa6-aebf-4cf1-82e5-10e450c0c550')\"\n",
              "              title=\"Convert this dataframe to an interactive table.\"\n",
              "              style=\"display:none;\">\n",
              "        \n",
              "  <svg xmlns=\"http://www.w3.org/2000/svg\" height=\"24px\"viewBox=\"0 0 24 24\"\n",
              "       width=\"24px\">\n",
              "    <path d=\"M0 0h24v24H0V0z\" fill=\"none\"/>\n",
              "    <path d=\"M18.56 5.44l.94 2.06.94-2.06 2.06-.94-2.06-.94-.94-2.06-.94 2.06-2.06.94zm-11 1L8.5 8.5l.94-2.06 2.06-.94-2.06-.94L8.5 2.5l-.94 2.06-2.06.94zm10 10l.94 2.06.94-2.06 2.06-.94-2.06-.94-.94-2.06-.94 2.06-2.06.94z\"/><path d=\"M17.41 7.96l-1.37-1.37c-.4-.4-.92-.59-1.43-.59-.52 0-1.04.2-1.43.59L10.3 9.45l-7.72 7.72c-.78.78-.78 2.05 0 2.83L4 21.41c.39.39.9.59 1.41.59.51 0 1.02-.2 1.41-.59l7.78-7.78 2.81-2.81c.8-.78.8-2.07 0-2.86zM5.41 20L4 18.59l7.72-7.72 1.47 1.35L5.41 20z\"/>\n",
              "  </svg>\n",
              "      </button>\n",
              "      \n",
              "  <style>\n",
              "    .colab-df-container {\n",
              "      display:flex;\n",
              "      flex-wrap:wrap;\n",
              "      gap: 12px;\n",
              "    }\n",
              "\n",
              "    .colab-df-convert {\n",
              "      background-color: #E8F0FE;\n",
              "      border: none;\n",
              "      border-radius: 50%;\n",
              "      cursor: pointer;\n",
              "      display: none;\n",
              "      fill: #1967D2;\n",
              "      height: 32px;\n",
              "      padding: 0 0 0 0;\n",
              "      width: 32px;\n",
              "    }\n",
              "\n",
              "    .colab-df-convert:hover {\n",
              "      background-color: #E2EBFA;\n",
              "      box-shadow: 0px 1px 2px rgba(60, 64, 67, 0.3), 0px 1px 3px 1px rgba(60, 64, 67, 0.15);\n",
              "      fill: #174EA6;\n",
              "    }\n",
              "\n",
              "    [theme=dark] .colab-df-convert {\n",
              "      background-color: #3B4455;\n",
              "      fill: #D2E3FC;\n",
              "    }\n",
              "\n",
              "    [theme=dark] .colab-df-convert:hover {\n",
              "      background-color: #434B5C;\n",
              "      box-shadow: 0px 1px 3px 1px rgba(0, 0, 0, 0.15);\n",
              "      filter: drop-shadow(0px 1px 2px rgba(0, 0, 0, 0.3));\n",
              "      fill: #FFFFFF;\n",
              "    }\n",
              "  </style>\n",
              "\n",
              "      <script>\n",
              "        const buttonEl =\n",
              "          document.querySelector('#df-c1d74aa6-aebf-4cf1-82e5-10e450c0c550 button.colab-df-convert');\n",
              "        buttonEl.style.display =\n",
              "          google.colab.kernel.accessAllowed ? 'block' : 'none';\n",
              "\n",
              "        async function convertToInteractive(key) {\n",
              "          const element = document.querySelector('#df-c1d74aa6-aebf-4cf1-82e5-10e450c0c550');\n",
              "          const dataTable =\n",
              "            await google.colab.kernel.invokeFunction('convertToInteractive',\n",
              "                                                     [key], {});\n",
              "          if (!dataTable) return;\n",
              "\n",
              "          const docLinkHtml = 'Like what you see? Visit the ' +\n",
              "            '<a target=\"_blank\" href=https://colab.research.google.com/notebooks/data_table.ipynb>data table notebook</a>'\n",
              "            + ' to learn more about interactive tables.';\n",
              "          element.innerHTML = '';\n",
              "          dataTable['output_type'] = 'display_data';\n",
              "          await google.colab.output.renderOutput(dataTable, element);\n",
              "          const docLink = document.createElement('div');\n",
              "          docLink.innerHTML = docLinkHtml;\n",
              "          element.appendChild(docLink);\n",
              "        }\n",
              "      </script>\n",
              "    </div>\n",
              "  </div>\n",
              "  "
            ]
          },
          "metadata": {},
          "execution_count": 32
        }
      ]
    },
    {
      "cell_type": "code",
      "source": [
        "### Information about dataframe\n",
        "\n",
        "airlines.info()"
      ],
      "metadata": {
        "colab": {
          "base_uri": "https://localhost:8080/"
        },
        "id": "YwbwxltwvCgz",
        "outputId": "31ce7131-3b0b-4645-b4d0-696c246bf12c"
      },
      "execution_count": null,
      "outputs": [
        {
          "output_type": "stream",
          "name": "stdout",
          "text": [
            "<class 'pandas.core.frame.DataFrame'>\n",
            "RangeIndex: 539382 entries, 0 to 539381\n",
            "Data columns (total 8 columns):\n",
            " #   Column       Non-Null Count   Dtype  \n",
            "---  ------       --------------   -----  \n",
            " 0   Flight       539382 non-null  float64\n",
            " 1   Time         539382 non-null  float64\n",
            " 2   Length       539382 non-null  float64\n",
            " 3   Airline      539382 non-null  object \n",
            " 4   AirportFrom  539382 non-null  object \n",
            " 5   AirportTo    539382 non-null  object \n",
            " 6   DayOfWeek    539382 non-null  int64  \n",
            " 7   Class        539382 non-null  int64  \n",
            "dtypes: float64(3), int64(2), object(3)\n",
            "memory usage: 32.9+ MB\n"
          ]
        }
      ]
    },
    {
      "cell_type": "code",
      "source": [
        "### Outliers\n",
        "\n",
        "def detecting_outliers(data):\n",
        "    outlier_percents = {}\n",
        "\n",
        "    for column in data.columns:\n",
        "\n",
        "        if data[column].dtype != object:\n",
        "\n",
        "            q1 = np.quantile(data[column], 0.25)\n",
        "            q3 = np.quantile(data[column], 0.75)\n",
        "            iqr = q3 - q1\n",
        "            upper = q3 + (1.5 * iqr)\n",
        "            lower = q1 - (1.5 * iqr)\n",
        "            outliers = data[(data[column] > upper) | (data[column] < lower)][column]\n",
        "            outlier_percentage = len(outliers) / len(data[column]) * 100\n",
        "            outlier_percents[column] = outlier_percentage\n",
        "            outlier_df = pd.DataFrame(data = outlier_percents.values(), index = outlier_percents.keys(), columns = ['Outlier_%'])\n",
        "\n",
        "    return outlier_df.sort_values(by = 'Outlier_%', ascending = False)\n",
        "\n",
        "detecting_outliers(airlines)"
      ],
      "metadata": {
        "colab": {
          "base_uri": "https://localhost:8080/",
          "height": 206
        },
        "id": "xX4ZAF6Pv46m",
        "outputId": "debd694b-8a64-48e6-f2df-86898a79e129"
      },
      "execution_count": null,
      "outputs": [
        {
          "output_type": "execute_result",
          "data": {
            "text/plain": [
              "           Outlier_%\n",
              "Length      4.755442\n",
              "Flight      0.000000\n",
              "Time        0.000000\n",
              "DayOfWeek   0.000000\n",
              "Class       0.000000"
            ],
            "text/html": [
              "\n",
              "  <div id=\"df-5ac05c48-6a31-4d60-b66c-14a3ca38a2d9\">\n",
              "    <div class=\"colab-df-container\">\n",
              "      <div>\n",
              "<style scoped>\n",
              "    .dataframe tbody tr th:only-of-type {\n",
              "        vertical-align: middle;\n",
              "    }\n",
              "\n",
              "    .dataframe tbody tr th {\n",
              "        vertical-align: top;\n",
              "    }\n",
              "\n",
              "    .dataframe thead th {\n",
              "        text-align: right;\n",
              "    }\n",
              "</style>\n",
              "<table border=\"1\" class=\"dataframe\">\n",
              "  <thead>\n",
              "    <tr style=\"text-align: right;\">\n",
              "      <th></th>\n",
              "      <th>Outlier_%</th>\n",
              "    </tr>\n",
              "  </thead>\n",
              "  <tbody>\n",
              "    <tr>\n",
              "      <th>Length</th>\n",
              "      <td>4.755442</td>\n",
              "    </tr>\n",
              "    <tr>\n",
              "      <th>Flight</th>\n",
              "      <td>0.000000</td>\n",
              "    </tr>\n",
              "    <tr>\n",
              "      <th>Time</th>\n",
              "      <td>0.000000</td>\n",
              "    </tr>\n",
              "    <tr>\n",
              "      <th>DayOfWeek</th>\n",
              "      <td>0.000000</td>\n",
              "    </tr>\n",
              "    <tr>\n",
              "      <th>Class</th>\n",
              "      <td>0.000000</td>\n",
              "    </tr>\n",
              "  </tbody>\n",
              "</table>\n",
              "</div>\n",
              "      <button class=\"colab-df-convert\" onclick=\"convertToInteractive('df-5ac05c48-6a31-4d60-b66c-14a3ca38a2d9')\"\n",
              "              title=\"Convert this dataframe to an interactive table.\"\n",
              "              style=\"display:none;\">\n",
              "        \n",
              "  <svg xmlns=\"http://www.w3.org/2000/svg\" height=\"24px\"viewBox=\"0 0 24 24\"\n",
              "       width=\"24px\">\n",
              "    <path d=\"M0 0h24v24H0V0z\" fill=\"none\"/>\n",
              "    <path d=\"M18.56 5.44l.94 2.06.94-2.06 2.06-.94-2.06-.94-.94-2.06-.94 2.06-2.06.94zm-11 1L8.5 8.5l.94-2.06 2.06-.94-2.06-.94L8.5 2.5l-.94 2.06-2.06.94zm10 10l.94 2.06.94-2.06 2.06-.94-2.06-.94-.94-2.06-.94 2.06-2.06.94z\"/><path d=\"M17.41 7.96l-1.37-1.37c-.4-.4-.92-.59-1.43-.59-.52 0-1.04.2-1.43.59L10.3 9.45l-7.72 7.72c-.78.78-.78 2.05 0 2.83L4 21.41c.39.39.9.59 1.41.59.51 0 1.02-.2 1.41-.59l7.78-7.78 2.81-2.81c.8-.78.8-2.07 0-2.86zM5.41 20L4 18.59l7.72-7.72 1.47 1.35L5.41 20z\"/>\n",
              "  </svg>\n",
              "      </button>\n",
              "      \n",
              "  <style>\n",
              "    .colab-df-container {\n",
              "      display:flex;\n",
              "      flex-wrap:wrap;\n",
              "      gap: 12px;\n",
              "    }\n",
              "\n",
              "    .colab-df-convert {\n",
              "      background-color: #E8F0FE;\n",
              "      border: none;\n",
              "      border-radius: 50%;\n",
              "      cursor: pointer;\n",
              "      display: none;\n",
              "      fill: #1967D2;\n",
              "      height: 32px;\n",
              "      padding: 0 0 0 0;\n",
              "      width: 32px;\n",
              "    }\n",
              "\n",
              "    .colab-df-convert:hover {\n",
              "      background-color: #E2EBFA;\n",
              "      box-shadow: 0px 1px 2px rgba(60, 64, 67, 0.3), 0px 1px 3px 1px rgba(60, 64, 67, 0.15);\n",
              "      fill: #174EA6;\n",
              "    }\n",
              "\n",
              "    [theme=dark] .colab-df-convert {\n",
              "      background-color: #3B4455;\n",
              "      fill: #D2E3FC;\n",
              "    }\n",
              "\n",
              "    [theme=dark] .colab-df-convert:hover {\n",
              "      background-color: #434B5C;\n",
              "      box-shadow: 0px 1px 3px 1px rgba(0, 0, 0, 0.15);\n",
              "      filter: drop-shadow(0px 1px 2px rgba(0, 0, 0, 0.3));\n",
              "      fill: #FFFFFF;\n",
              "    }\n",
              "  </style>\n",
              "\n",
              "      <script>\n",
              "        const buttonEl =\n",
              "          document.querySelector('#df-5ac05c48-6a31-4d60-b66c-14a3ca38a2d9 button.colab-df-convert');\n",
              "        buttonEl.style.display =\n",
              "          google.colab.kernel.accessAllowed ? 'block' : 'none';\n",
              "\n",
              "        async function convertToInteractive(key) {\n",
              "          const element = document.querySelector('#df-5ac05c48-6a31-4d60-b66c-14a3ca38a2d9');\n",
              "          const dataTable =\n",
              "            await google.colab.kernel.invokeFunction('convertToInteractive',\n",
              "                                                     [key], {});\n",
              "          if (!dataTable) return;\n",
              "\n",
              "          const docLinkHtml = 'Like what you see? Visit the ' +\n",
              "            '<a target=\"_blank\" href=https://colab.research.google.com/notebooks/data_table.ipynb>data table notebook</a>'\n",
              "            + ' to learn more about interactive tables.';\n",
              "          element.innerHTML = '';\n",
              "          dataTable['output_type'] = 'display_data';\n",
              "          await google.colab.output.renderOutput(dataTable, element);\n",
              "          const docLink = document.createElement('div');\n",
              "          docLink.innerHTML = docLinkHtml;\n",
              "          element.appendChild(docLink);\n",
              "        }\n",
              "      </script>\n",
              "    </div>\n",
              "  </div>\n",
              "  "
            ]
          },
          "metadata": {},
          "execution_count": 34
        }
      ]
    },
    {
      "cell_type": "code",
      "source": [
        "### Length has a 4.755442 outlier percentage and the other variables have a 0.000 outlier percentage"
      ],
      "metadata": {
        "id": "2dOcbMT1weeD"
      },
      "execution_count": null,
      "outputs": []
    },
    {
      "cell_type": "code",
      "source": [
        "### Target variable distribution\n",
        "\n",
        "airlines['Class'].value_counts() / airlines['Class'].value_counts().sum()"
      ],
      "metadata": {
        "colab": {
          "base_uri": "https://localhost:8080/"
        },
        "id": "EiYENGZHwwd9",
        "outputId": "8cd51e19-99da-46d2-8cbc-bc3801f77f7a"
      },
      "execution_count": null,
      "outputs": [
        {
          "output_type": "execute_result",
          "data": {
            "text/plain": [
              "0    0.554557\n",
              "1    0.445443\n",
              "Name: Class, dtype: float64"
            ]
          },
          "metadata": {},
          "execution_count": 35
        }
      ]
    },
    {
      "cell_type": "code",
      "source": [
        "### The classes are mostly balanced"
      ],
      "metadata": {
        "id": "GyJoWf7kxei9"
      },
      "execution_count": null,
      "outputs": []
    },
    {
      "cell_type": "code",
      "source": [
        "### Divide the dataset into numerical, categorical and target variables\n",
        "\n",
        "features = [\"Time\", \"Length\", \"Airline\", \"AirportFrom\", \"AirportTo\", \"DayOfWeek\"]\n",
        "categorical_features = [\"Airline\", \"AirportFrom\", \"AirportTo\"]\n",
        "target = \"Class\""
      ],
      "metadata": {
        "id": "dID1GA8yyb2A"
      },
      "execution_count": null,
      "outputs": []
    },
    {
      "cell_type": "code",
      "source": [
        "### Vizualization\n",
        "\n",
        "# Categorical\n",
        "\n",
        "fig, axes = plt.subplots(1, 3, figsize=(15, 5))\n",
        "\n",
        "for i, f in enumerate(categorical_features):\n",
        "    airlines[f].value_counts().plot(kind=\"bar\", ax=axes[i], title=f)\n",
        "\n",
        "axes[0].set_ylabel(\"Count\")\n",
        "axes[1].set_xticklabels([])\n",
        "axes[1].set_xlabel(\"Airports From\")\n",
        "axes[2].set_xticklabels([])\n",
        "axes[2].set_xlabel(\"Airports To\")\n",
        "\n",
        "plt.tight_layout()\n",
        "plt.show()"
      ],
      "metadata": {
        "colab": {
          "base_uri": "https://localhost:8080/",
          "height": 383
        },
        "id": "BV8fbo2h3rl6",
        "outputId": "6dfb5662-45b9-4534-fd6a-cba460bcd65d"
      },
      "execution_count": null,
      "outputs": [
        {
          "output_type": "display_data",
          "data": {
            "text/plain": [
              "<Figure size 1500x500 with 3 Axes>"
            ],
            "image/png": "[encoded data removed]"
          },
          "metadata": {}
        }
      ]
    },
    {
      "cell_type": "code",
      "source": [
        "### WN airline has the most flights and HA airline has the least"
      ],
      "metadata": {
        "id": "nkRu0Dl158pI"
      },
      "execution_count": null,
      "outputs": []
    },
    {
      "cell_type": "code",
      "source": [
        "# Numerical\n",
        "\n",
        "numerical_features = [f for f in features if f not in categorical_features]\n",
        "fig, axes = plt.subplots(1, 3, figsize=(15, 5))\n",
        "\n",
        "for i, f in enumerate(numerical_features):\n",
        "    airlines[f].value_counts().plot(kind=\"bar\", ax=axes[i], title=f)\n",
        "    axes[i].set_ylabel(\"Count\")\n",
        "    axes[i].set_xlabel(f)\n",
        "\n",
        "axes[0].set_xticks([])\n",
        "axes[1].set_xticks([])\n",
        "axes[2].set_xticklabels([\"Mon\", \"Tue\", \"Wed\", \"Thu\", \"Fri\", \"Sat\", \"Sun\"], rotation=45)\n",
        "axes[2].set_xlabel(\"\")\n",
        "\n",
        "plt.tight_layout()\n",
        "plt.show()"
      ],
      "metadata": {
        "colab": {
          "base_uri": "https://localhost:8080/",
          "height": 383
        },
        "id": "fzAMy83g51C6",
        "outputId": "dfa4a2bf-1703-4853-983f-9fca0216e333"
      },
      "execution_count": null,
      "outputs": [
        {
          "output_type": "display_data",
          "data": {
            "text/plain": [
              "<Figure size 1500x500 with 3 Axes>"
            ],
            "image/png": "[encoded data removed]"
          },
          "metadata": {}
        }
      ]
    },
    {
      "cell_type": "code",
      "source": [
        "# Target\n",
        "\n",
        "fig, ax = plt.subplots(1, 1, figsize=(10, 5))\n",
        "airlines[target].value_counts().plot(kind=\"bar\", color=[\"royalblue\", \"darksalmon\"], ax=ax, title=target)\n",
        "ax.set_xticklabels([\"On Time\", \"Delayed\"], rotation=0)"
      ],
      "metadata": {
        "colab": {
          "base_uri": "https://localhost:8080/",
          "height": 485
        },
        "id": "0KgfO31J6gqD",
        "outputId": "e24283c4-7bc0-41c4-f43f-b630ca758d6a"
      },
      "execution_count": null,
      "outputs": [
        {
          "output_type": "execute_result",
          "data": {
            "text/plain": [
              "[Text(0, 0, 'On Time'), Text(1, 0, 'Delayed')]"
            ]
          },
          "metadata": {},
          "execution_count": 18
        },
        {
          "output_type": "display_data",
          "data": {
            "text/plain": [
              "<Figure size 1000x500 with 1 Axes>"
            ],
            "image/png": "[encoded data removed]"
          },
          "metadata": {}
        }
      ]
    },
    {
      "cell_type": "code",
      "source": [
        "# Airline ID & Class\n",
        "\n",
        "sns.countplot(x = 'Airline', hue = 'Class', data = airlines)"
      ],
      "metadata": {
        "colab": {
          "base_uri": "https://localhost:8080/",
          "height": 466
        },
        "id": "AtgzH06k6tud",
        "outputId": "7b549927-a9d9-49c7-cfef-51c8c177072b"
      },
      "execution_count": null,
      "outputs": [
        {
          "output_type": "execute_result",
          "data": {
            "text/plain": [
              "<Axes: xlabel='Airline', ylabel='count'>"
            ]
          },
          "metadata": {},
          "execution_count": 19
        },
        {
          "output_type": "display_data",
          "data": {
            "text/plain": [
              "<Figure size 640x480 with 1 Axes>"
            ],
            "image/png": "[encoded data removed]"
          },
          "metadata": {}
        }
      ]
    },
    {
      "cell_type": "code",
      "source": [
        "### WN has the highest delays than the other airlines"
      ],
      "metadata": {
        "id": "-bkiEoE27Dd_"
      },
      "execution_count": null,
      "outputs": []
    },
    {
      "cell_type": "code",
      "source": [
        "# Airline ID & Length\n",
        "\n",
        "sns.barplot(x = 'Airline', y = 'Length', data = airlines)"
      ],
      "metadata": {
        "colab": {
          "base_uri": "https://localhost:8080/",
          "height": 466
        },
        "id": "mhPnWLaJ6z9L",
        "outputId": "b952d772-8be6-4508-9c6b-08b17ae5be18"
      },
      "execution_count": null,
      "outputs": [
        {
          "output_type": "execute_result",
          "data": {
            "text/plain": [
              "<Axes: xlabel='Airline', ylabel='Length'>"
            ]
          },
          "metadata": {},
          "execution_count": 20
        },
        {
          "output_type": "display_data",
          "data": {
            "text/plain": [
              "<Figure size 640x480 with 1 Axes>"
            ],
            "image/png": "[encoded data removed]"
          },
          "metadata": {}
        }
      ]
    },
    {
      "cell_type": "code",
      "source": [
        "### CO and UA has the longest average flight length"
      ],
      "metadata": {
        "id": "saPOreXA6_9T"
      },
      "execution_count": null,
      "outputs": []
    },
    {
      "cell_type": "code",
      "source": [
        "# Airline ID & Time\n",
        "\n",
        "sns.barplot(x = 'Airline', y = 'Time', data = airlines)"
      ],
      "metadata": {
        "colab": {
          "base_uri": "https://localhost:8080/",
          "height": 466
        },
        "id": "h2QarvAK7HpE",
        "outputId": "63adcfc4-ed72-4d57-ac73-979bd167eae5"
      },
      "execution_count": null,
      "outputs": [
        {
          "output_type": "execute_result",
          "data": {
            "text/plain": [
              "<Axes: xlabel='Airline', ylabel='Time'>"
            ]
          },
          "metadata": {},
          "execution_count": 21
        },
        {
          "output_type": "display_data",
          "data": {
            "text/plain": [
              "<Figure size 640x480 with 1 Axes>"
            ],
            "image/png": "[encoded data removed]"
          },
          "metadata": {}
        }
      ]
    },
    {
      "cell_type": "code",
      "source": [
        "### Almost all of the flights have similar departure times"
      ],
      "metadata": {
        "id": "eyxh-snB7NoM"
      },
      "execution_count": null,
      "outputs": []
    },
    {
      "cell_type": "markdown",
      "source": [
        "Encoding the categorical features"
      ],
      "metadata": {
        "id": "KwidEzYa8DPM"
      }
    },
    {
      "cell_type": "code",
      "source": [
        "### Encode the Airline object columns\n",
        "\n",
        "airlines['Airline'].unique()"
      ],
      "metadata": {
        "colab": {
          "base_uri": "https://localhost:8080/"
        },
        "id": "Kf84bD3d8GtG",
        "outputId": "2c4195f8-ef8b-4962-b6ab-c1f2a1afc38d"
      },
      "execution_count": null,
      "outputs": [
        {
          "output_type": "execute_result",
          "data": {
            "text/plain": [
              "array(['DL', 'OO', 'B6', 'US', 'FL', 'WN', 'CO', 'AA', 'YV', 'EV', 'XE',\n",
              "       '9E', 'OH', 'UA', 'MQ', 'AS', 'F9', 'HA'], dtype=object)"
            ]
          },
          "metadata": {},
          "execution_count": 3
        }
      ]
    },
    {
      "cell_type": "code",
      "source": [
        "label_encoder= LabelEncoder()\n",
        "\n",
        "airlines['Airline']=label_encoder.fit_transform(airlines['Airline'])\n",
        "airlines['Airline'].unique()"
      ],
      "metadata": {
        "colab": {
          "base_uri": "https://localhost:8080/"
        },
        "id": "efBgtxr-9WYj",
        "outputId": "b030a7c0-575c-428d-b886-1239344b20e5"
      },
      "execution_count": null,
      "outputs": [
        {
          "output_type": "execute_result",
          "data": {
            "text/plain": [
              "array([ 5, 12,  3, 14,  8, 15,  4,  1, 17,  6, 16,  0, 11, 13, 10,  2,  7,\n",
              "        9])"
            ]
          },
          "metadata": {},
          "execution_count": 4
        }
      ]
    },
    {
      "cell_type": "code",
      "source": [
        "airlines['AirportFrom'].unique()"
      ],
      "metadata": {
        "colab": {
          "base_uri": "https://localhost:8080/"
        },
        "id": "zgXpuMY_9mJM",
        "outputId": "fdd19310-4bd1-4b3f-f0eb-d1235610cde5"
      },
      "execution_count": null,
      "outputs": [
        {
          "output_type": "execute_result",
          "data": {
            "text/plain": [
              "array(['ATL', 'COS', 'BOS', 'OGG', 'BMI', 'MSY', 'EWR', 'DFW', 'BWI',\n",
              "       'CRW', 'LGB', 'BIS', 'CLT', 'IAH', 'LAX', 'JAX', 'SAV', 'CLE',\n",
              "       'FLL', 'SAN', 'BHM', 'ROC', 'DTW', 'STT', 'AUS', 'DCA', 'PHX',\n",
              "       'EYW', 'IND', 'JFK', 'ORD', 'PBI', 'SFO', 'MIA', 'DSM', 'SLC',\n",
              "       'PHL', 'BZN', 'GRB', 'MBS', 'SBA', 'TYS', 'MSP', 'DEN', 'SAT',\n",
              "       'BUF', 'RIC', 'SEA', 'PDX', 'LAS', 'IAD', 'HNL', 'BDL', 'MOT',\n",
              "       'PSE', 'CPR', 'SNA', 'STL', 'CVG', 'PIT', 'HSV', 'SGF', 'RDU',\n",
              "       'MEM', 'KOA', 'ELP', 'SJU', 'JAN', 'AEX', 'LGA', 'RSW', 'MDT',\n",
              "       'GUC', 'MKE', 'CAE', 'GRR', 'FAR', 'LIT', 'OMA', 'BNA', 'EVV',\n",
              "       'RDD', 'OKC', 'ITO', 'SJC', 'MCO', 'LBB', 'CSG', 'OAK', 'PHF',\n",
              "       'ABQ', 'SMF', 'FAY', 'ABI', 'MSO', 'MFE', 'GEG', 'MSN', 'TPA',\n",
              "       'DAY', 'RNO', 'PVD', 'ALB', 'CHO', 'ONT', 'LIH', 'PSP', 'LAN',\n",
              "       'LEX', 'XNA', 'GJT', 'CMH', 'GSO', 'PSC', 'SYR', 'AVL', 'MHT',\n",
              "       'GRK', 'MCI', 'TXK', 'LRD', 'ABE', 'LWB', 'ERI', 'DAL', 'ANC',\n",
              "       'TUS', 'ROA', 'MOD', 'JNU', 'SBP', 'CDV', 'TUL', 'FSD', 'FNT',\n",
              "       'BTV', 'FCA', 'GNV', 'RAP', 'MDW', 'FWA', 'BUR', 'PNS', 'RST',\n",
              "       'HOU', 'BOI', 'CRP', 'BRO', 'ATW', 'SHV', 'SMX', 'RDM', 'ORF',\n",
              "       'GPT', 'KTN', 'ICT', 'SAF', 'CAK', 'IDA', 'MQT', 'VPS', 'CHS',\n",
              "       'MAF', 'HPN', 'AVP', 'AZO', 'TRI', 'GSP', 'HDN', 'MLU', 'EUG',\n",
              "       'AMA', 'MHK', 'ISP', 'CID', 'MOB', 'BGR', 'SRQ', 'MLI', 'EKO',\n",
              "       'LFT', 'TOL', 'ECP', 'PSG', 'SBN', 'FAT', 'ELM', 'YUM', 'CLD',\n",
              "       'FAI', 'ASE', 'BTR', 'BQK', 'COU', 'MRY', 'CEC', 'CWA', 'PWM',\n",
              "       'FLG', 'TLH', 'SDF', 'BFL', 'CHA', 'ACV', 'MGM', 'ROW', 'GTR',\n",
              "       'EWN', 'ILM', 'OTZ', 'SGU', 'OTH', 'CMX', 'SWF', 'BET', 'GTF',\n",
              "       'CMI', 'MFR', 'JAC', 'DLH', 'ABY', 'MTJ', 'SCC', 'DRO', 'TEX',\n",
              "       'FSM', 'COD', 'GGG', 'DBQ', 'GFK', 'BKG', 'AGS', 'BTM', 'DHN',\n",
              "       'TYR', 'EGE', 'PIH', 'VLD', 'MEI', 'SIT', 'MLB', 'PAH', 'YAK',\n",
              "       'DAB', 'HLN', 'PIA', 'SPI', 'GCC', 'IPL', 'TVC', 'OAJ', 'EAU',\n",
              "       'BGM', 'MYR', 'HRL', 'MKG', 'SUN', 'LSE', 'CIC', 'OME', 'ITH',\n",
              "       'LNK', 'BIL', 'CYS', 'LCH', 'BQN', 'WRG', 'BRW', 'SPS', 'RKS',\n",
              "       'TWF', 'LMT', 'ACT', 'PLN', 'ACY', 'ADK', 'SJT', 'IYK', 'LWS',\n",
              "       'BLI', 'SCE', 'MMH', 'LYH', 'GUM', 'CDC', 'ADQ', 'HTS', 'PIE',\n",
              "       'STX', 'FLO', 'UTM', 'CLL', 'ABR'], dtype=object)"
            ]
          },
          "metadata": {},
          "execution_count": 5
        }
      ]
    },
    {
      "cell_type": "code",
      "source": [
        "airlines['AirportFrom']=label_encoder.fit_transform(airlines['AirportFrom'])\n",
        "airlines['AirportFrom'].unique()"
      ],
      "metadata": {
        "colab": {
          "base_uri": "https://localhost:8080/"
        },
        "id": "oN22YX6e9mfy",
        "outputId": "39eefd07-07fb-4ca8-a7c3-1baa3e2c9ab3"
      },
      "execution_count": null,
      "outputs": [
        {
          "output_type": "execute_result",
          "data": {
            "text/plain": [
              "array([ 16,  65,  35, 203,  32, 198,  96,  80,  45,  69, 160,  29,  60,\n",
              "       135, 154, 147, 245,  58, 104, 243,  27, 238,  85, 269,  18,  78,\n",
              "       217,  97, 139, 148, 208, 213, 253, 183,  84, 261, 216,  46, 117,\n",
              "       171, 246, 285, 197,  79, 244,  43, 234, 252, 214, 153, 134, 128,\n",
              "        22, 192, 225,  67, 264, 268,  71, 221, 132, 254, 233, 177, 150,\n",
              "        91, 260, 146,  10, 159, 241, 174, 124, 184,  47, 119,  99, 162,\n",
              "       205,  33,  94, 231, 204, 143, 258, 173, 155,  70, 202, 215,   2,\n",
              "       262, 101,   1, 196, 178, 111, 195, 277,  76, 236, 228,  12,  53,\n",
              "       207, 161, 227, 152, 157, 290, 114,  61, 120, 224, 273,  19, 182,\n",
              "       118, 172, 283, 165,   0, 167,  92,  75,  14, 280, 237, 191, 149,\n",
              "       248,  50, 279, 107, 106,  42, 102, 115, 230, 175, 109,  44, 223,\n",
              "       240, 129,  34,  68,  38,  17, 256, 263, 232, 209, 116, 151, 136,\n",
              "       242,  48, 137, 193, 288,  54, 170, 130,  20,  21, 278, 121, 126,\n",
              "       188,  93,  13, 181, 141,  56, 190,  26, 267, 187,  89, 158, 276,\n",
              "        87, 226, 247, 100,  90, 292,  57,  98,  15,  41,  36,  66, 194,\n",
              "        51,  72, 229, 103, 275, 251,  24,  52,   6, 180, 239, 123,  95,\n",
              "       138, 211, 255, 210,  63, 272,  23, 122,  62, 179, 145,  82,   4,\n",
              "       199, 249,  83, 274, 108,  64, 113,  77, 112,  30,  11,  40,  81,\n",
              "       284,  88, 220, 287, 176, 257, 186, 212, 291,  74, 127, 218, 265,\n",
              "       110, 140, 281, 201,  86,  25, 200, 131, 185, 271, 166,  55, 206,\n",
              "       142, 164,  28,  73, 156,  37, 289,  39, 266, 235, 282, 163,   5,\n",
              "       222,   7,   8, 259, 144, 168,  31, 250, 189, 169, 125,  49,   9,\n",
              "       133, 219, 270, 105, 286,  59,   3])"
            ]
          },
          "metadata": {},
          "execution_count": 6
        }
      ]
    },
    {
      "cell_type": "code",
      "source": [
        "airlines['AirportTo'].unique()"
      ],
      "metadata": {
        "colab": {
          "base_uri": "https://localhost:8080/"
        },
        "id": "y4B-P3AE9mod",
        "outputId": "94b0ce2e-e781-488d-dea1-aa2f153bc957"
      },
      "execution_count": null,
      "outputs": [
        {
          "output_type": "execute_result",
          "data": {
            "text/plain": [
              "array(['HOU', 'ORD', 'CLT', 'PHX', 'ATL', 'BHM', 'DFW', 'MEM', 'GRR',\n",
              "       'PBI', 'MCO', 'SFO', 'DEN', 'YUM', 'BWI', 'HPN', 'EWR', 'JFK',\n",
              "       'MKE', 'OAK', 'IAH', 'CLE', 'SYR', 'SJU', 'BDL', 'SAN', 'DTW',\n",
              "       'PSP', 'DCA', 'LGA', 'STL', 'FAY', 'MSP', 'BUF', 'LAS', 'SGU',\n",
              "       'SLC', 'GJT', 'LAX', 'VPS', 'FAR', 'RKS', 'BOS', 'ANC', 'SNA',\n",
              "       'ONT', 'RNO', 'JAX', 'GSP', 'CVG', 'TPA', 'SEA', 'LEX', 'SMF',\n",
              "       'CAE', 'STT', 'DAY', 'MDW', 'RSW', 'ITO', 'IAD', 'ICT', 'HNL',\n",
              "       'MIA', 'CRW', 'RDU', 'MHT', 'FAT', 'CAK', 'COS', 'DAL', 'TYS',\n",
              "       'PHL', 'ABI', 'MOB', 'SDF', 'SAV', 'MDT', 'LIT', 'TUL', 'ACV',\n",
              "       'BNA', 'MCI', 'MSY', 'FLL', 'PVD', 'OKC', 'ECP', 'PHF', 'AUS',\n",
              "       'RIC', 'LIH', 'ABQ', 'JAN', 'PIT', 'BMI', 'BTV', 'RAP', 'MRY',\n",
              "       'CSG', 'SHV', 'FAI', 'SJC', 'PIA', 'SBN', 'IND', 'SGF', 'ACT',\n",
              "       'SRQ', 'ROC', 'CHO', 'JAC', 'SAT', 'FWA', 'OMA', 'PDX', 'CMH',\n",
              "       'PWM', 'CID', 'TRI', 'ORF', 'GTF', 'TUS', 'MHK', 'BUR', 'MLU',\n",
              "       'CEC', 'TEX', 'MBS', 'DSM', 'HRL', 'LFT', 'ELP', 'AEX', 'CPR',\n",
              "       'LBB', 'MYR', 'ALB', 'COU', 'LSE', 'CHA', 'MLI', 'GEG', 'AZO',\n",
              "       'MFR', 'BTR', 'FLG', 'KTN', 'PSC', 'GSO', 'OGG', 'MSN', 'GPT',\n",
              "       'PNS', 'RDM', 'BZN', 'DLH', 'CRP', 'TXK', 'KOA', 'MQT', 'MAF',\n",
              "       'TLH', 'XNA', 'CWA', 'SBP', 'BFL', 'DRO', 'WRG', 'DHN', 'SPS',\n",
              "       'AMA', 'EGE', 'BET', 'FCA', 'EUG', 'EVV', 'AVL', 'HSV', 'PIE',\n",
              "       'MLB', 'SWF', 'ASE', 'BGM', 'MSO', 'ADK', 'GRK', 'SUN', 'SBA',\n",
              "       'LGB', 'CHS', 'GNV', 'MOT', 'LAN', 'LNK', 'OME', 'OTH', 'ISP',\n",
              "       'FNT', 'EAU', 'ILM', 'BRW', 'LCH', 'IYK', 'MKG', 'HDN', 'BRO',\n",
              "       'GRB', 'FSD', 'LRD', 'RDD', 'SPI', 'ROA', 'IPL', 'EYW', 'SAF',\n",
              "       'LWS', 'AGS', 'CMX', 'ATW', 'MGM', 'GGG', 'BOI', 'FLO', 'COD',\n",
              "       'ACY', 'CMI', 'JNU', 'AVP', 'ERI', 'TYR', 'DAB', 'TVC', 'FSM',\n",
              "       'IDA', 'MFE', 'EKO', 'ABE', 'PAH', 'LMT', 'YAK', 'HLN', 'MMH',\n",
              "       'ITH', 'LYH', 'BIL', 'EWN', 'SMX', 'MEI', 'OAJ', 'SCE', 'CLD',\n",
              "       'BIS', 'GFK', 'MTJ', 'BQN', 'BQK', 'GTR', 'CDV', 'BKG', 'PIH',\n",
              "       'ROW', 'PLN', 'TWF', 'ELM', 'GCC', 'CYS', 'CDC', 'ABY', 'VLD',\n",
              "       'MOD', 'STX', 'OTZ', 'HTS', 'BTM', 'PSE', 'SCC', 'RST', 'DBQ',\n",
              "       'ADQ', 'PSG', 'SIT', 'GUC', 'LWB', 'BGR', 'CIC', 'GUM', 'UTM',\n",
              "       'CLL', 'TOL', 'SJT', 'BLI', 'ABR'], dtype=object)"
            ]
          },
          "metadata": {},
          "execution_count": 7
        }
      ]
    },
    {
      "cell_type": "code",
      "source": [
        "airlines['AirportTo']=label_encoder.fit_transform(airlines['AirportTo'])\n",
        "airlines['AirportTo'].unique()"
      ],
      "metadata": {
        "colab": {
          "base_uri": "https://localhost:8080/"
        },
        "id": "x7vAgspS9mvc",
        "outputId": "ed042e57-af94-4a2f-b82c-d6ffe850512c"
      },
      "execution_count": null,
      "outputs": [
        {
          "output_type": "execute_result",
          "data": {
            "text/plain": [
              "array([129, 208,  60, 217,  16,  27,  80, 177, 119, 213, 173, 253,  79,\n",
              "       292,  45, 130,  96, 148, 184, 202, 135,  58, 273, 260,  22, 243,\n",
              "        85, 227,  78, 159, 268, 101, 197,  43, 153, 255, 261, 114, 154,\n",
              "       288,  99, 235,  35,  14, 264, 207, 236, 147, 121,  71, 277, 252,\n",
              "       157, 262,  47, 269,  76, 175, 241, 143, 134, 136, 128, 183,  69,\n",
              "       233, 182, 100,  48,  65,  75, 285, 216,   1, 190, 251, 245, 174,\n",
              "       162, 279,   6,  33, 172, 198, 104, 228, 204,  87, 215,  18, 234,\n",
              "       161,   2, 146, 221,  32,  42, 230, 194,  70, 256,  98, 258, 218,\n",
              "       247, 139, 254,   5, 267, 238,  53, 145, 244, 109, 205, 214,  61,\n",
              "       229,  56, 278, 209, 122, 280, 181,  44, 188,  51, 274, 171,  84,\n",
              "       131, 158,  91,  10,  67, 155, 200,  12,  66, 166,  52, 187, 111,\n",
              "        21, 179,  41, 103, 151, 224, 120, 203, 195, 116, 223, 232,  46,\n",
              "        82,  68, 283, 150, 193, 170, 275, 290,  72, 248,  24,  83, 289,\n",
              "        81, 266,  13,  88,  23, 102,  93,  94,  19, 132, 219, 186, 272,\n",
              "        15,  25, 196,   8, 118, 271, 246, 160,  54, 115, 192, 152, 164,\n",
              "       206, 210, 141, 106,  86, 138,  39, 156, 144, 185, 126,  38, 117,\n",
              "       107, 165, 231, 265, 237, 140,  97, 242, 168,  11,  63,  17, 180,\n",
              "       113,  34, 105,  64,   7,  62, 149,  20,  92, 284,  74, 281, 108,\n",
              "       137, 178,  89,   0, 212, 163, 291, 127, 189, 142, 169,  28,  95,\n",
              "       263, 176, 201, 250,  57,  29, 112, 199,  37,  36, 123,  50,  30,\n",
              "       220, 239, 222, 282,  90, 110,  73,  49,   4, 287, 191, 270, 211,\n",
              "       133,  40, 225, 249, 240,  77,   9, 226, 257, 124, 167,  26,  55,\n",
              "       125, 286,  59, 276, 259,  31,   3])"
            ]
          },
          "metadata": {},
          "execution_count": 8
        }
      ]
    },
    {
      "cell_type": "code",
      "source": [
        "print(airlines.head())\n",
        "print(airlines.dtypes)"
      ],
      "metadata": {
        "colab": {
          "base_uri": "https://localhost:8080/"
        },
        "id": "VPERM-Lo-RMU",
        "outputId": "bacce0b3-1e48-4894-a49c-3e1b3084d838"
      },
      "execution_count": null,
      "outputs": [
        {
          "output_type": "stream",
          "name": "stdout",
          "text": [
            "   Flight    Time  Length  Airline  AirportFrom  AirportTo  DayOfWeek  Class\n",
            "0  2313.0  1296.0   141.0        5           16        129          1      0\n",
            "1  6948.0   360.0   146.0       12           65        208          4      0\n",
            "2  1247.0  1170.0   143.0        3           35         60          3      0\n",
            "3    31.0  1410.0   344.0       14          203        217          6      0\n",
            "4   563.0   692.0    98.0        8           32         16          4      0\n",
            "Flight         float64\n",
            "Time           float64\n",
            "Length         float64\n",
            "Airline          int64\n",
            "AirportFrom      int64\n",
            "AirportTo        int64\n",
            "DayOfWeek        int64\n",
            "Class            int64\n",
            "dtype: object\n"
          ]
        }
      ]
    },
    {
      "cell_type": "markdown",
      "source": [
        "Data Preprocessing"
      ],
      "metadata": {
        "id": "lUwcIN3JAnxF"
      }
    },
    {
      "cell_type": "code",
      "source": [
        "### Some conclusions for data preprocessing\n",
        "\n",
        "### 1. The data preprocessing will be performed on the training data, at each iteration of the 5-fold strategy\n",
        "###    (not on the test data, because in practice you don't have access to the test data until you start evaluating the performance of the model)\n",
        "### 2. First, check if the target is imbalanced and define a plan for handling it\n",
        "###    - we can see from the data visualization that the target variable is a little unbalanced\n",
        "###    - we will apply, for balancing, the oversampling strategy of the minority class\n",
        "###    - the result will be represented by two classes (delay and without delay) which will have the same number of instances\n",
        "### 3. Second, check if data has a temporal aspect to it\n",
        "###    - we can see from task 1 following our diagrams that, although we have data related to the day or time of departure,\n",
        "###      our data does not have a temporal aspect (we do not observe a trend or a temporal pattern)\n",
        "### 4. Then we will decide whether for algorithm i we will use a data filtering method or not\n",
        "###    i)   we will not perform any filtering, we will keep the training dataset exactly as it is and then evaluate the trained model\n",
        "###    ii)  we will remove the numerical variable Flight ID which, from task 1, we noticed that, normally, it should not have a significant influence on our target variable\n",
        "###    iii) now, in addition to Flight, we will remove our outlier points from our training data set (we will use the z-score function which is the most popular for removing outliers)\n",
        "###\n",
        "###    For the 4th and 5th methods, we will classify by filtering on main components (we will keep the categorical components that we saw from task 2\n",
        "###    as having a great importance in classifying our data, and from the numerical variables we will take 2 pairs of two variables that have a distribution as uniform as possible,\n",
        "###    obtained in task 1)\n",
        "###\n",
        "###    iv)  Time & Length\n",
        "###    v)   Time & DayOfWeek\n",
        "\n",
        "### At each iteration we will collect the results obtained in the general confusion matrix for the algorithm in question, and then we will make several plots for the statistical visualizations."
      ],
      "metadata": {
        "id": "S2mF3102AQKG"
      },
      "execution_count": null,
      "outputs": []
    },
    {
      "cell_type": "code",
      "source": [
        "### Dealing with data imbalance(oversampling the minority class)\n",
        "\n",
        "def imbalance_data(airlines):\n",
        "  ## Creating two different dataframes of majority and minority\n",
        "  airlines_major = airlines[(airlines['Class'] == 0)]\n",
        "  airlines_minor = airlines[(airlines['Class'] == 1)]\n",
        "\n",
        "  ## Unsample minority class\n",
        "  airlines_minor_unsampled = resample(airlines_minor, replace = True, n_samples = max(airlines['Class'].value_counts()), random_state = 0)\n",
        "\n",
        "  ## Combine majority class with unsampled minority class\n",
        "  data_unsampled = pd.concat([airlines_minor_unsampled, airlines_major])\n",
        "\n",
        "  return data_unsampled\n",
        "\n",
        "# balance_airlines = imbalance_data(airlines)\n",
        "\n",
        "# sns.countplot(x = 'Class', data = balance_airlines)\n",
        "# balance_airlines['Class'].value_counts()"
      ],
      "metadata": {
        "id": "YdCPVRhgWxQH"
      },
      "execution_count": null,
      "outputs": []
    },
    {
      "cell_type": "code",
      "source": [
        "### Remove column from dataset\n",
        "\n",
        "def rmv_var(airlines, var):\n",
        "  return airlines.drop(var, axis = 1)\n"
      ],
      "metadata": {
        "id": "xGCgt2ONY0w7"
      },
      "execution_count": null,
      "outputs": []
    },
    {
      "cell_type": "code",
      "source": [
        "### Remove outliers using z-score method\n",
        "\n",
        "def rmv_outliers(train_data, threshold=3):\n",
        "  z = np.abs(stats.zscore(train_data))\n",
        "  train_data_no_outliers = train_data[(z<threshold).all(axis=1)]\n",
        "  return train_data_no_outliers\n",
        "\n",
        "# airlines_no_outliers = rmv_outliers(balance_airlines)\n",
        "# airlines_no_outliers.shape"
      ],
      "metadata": {
        "id": "p1kFHgQfYYji"
      },
      "execution_count": null,
      "outputs": []
    },
    {
      "cell_type": "markdown",
      "source": [
        "# Algorithms"
      ],
      "metadata": {
        "id": "Uc42UaQfea1F"
      }
    },
    {
      "cell_type": "code",
      "source": [
        "### Bar plot for metrics testing\n",
        "def plot(sets, width):\n",
        "    colors = ['tab:blue', 'tab:green', 'tab:red', 'tab:orange', 'tab:purple', 'tab:pink', 'tab:black', 'tab:yellow']\n",
        "    labels = ['Accuracy', 'F1 Score', 'Precision', 'Recall']\n",
        "    methods = ['DT', 'RF', 'XG', 'LR', 'BN', 'KNN']\n",
        "\n",
        "    num_sets = len(sets)\n",
        "    fig, ax = plt.subplots()\n",
        "\n",
        "    for i in range(num_sets):\n",
        "        x = np.arange(len(labels))\n",
        "        ax.bar(x + (i - num_sets / 2 + 0.5) * width, sets[i], width, color=colors[i], label=methods[i])\n",
        "\n",
        "    ax.legend(bbox_to_anchor=(1.05, 1), loc='upper left')\n",
        "    ax.set_ylim([40, 70])\n",
        "    ax.set_xticks(x)\n",
        "    ax.set_xticklabels(labels)\n",
        "\n",
        "    plt.show()"
      ],
      "metadata": {
        "id": "5slYUEtxcVJN"
      },
      "execution_count": null,
      "outputs": []
    },
    {
      "cell_type": "markdown",
      "source": [
        "DECISION TREE CLASSIFIER"
      ],
      "metadata": {
        "id": "QJ5BPh2Eeicj"
      }
    },
    {
      "cell_type": "code",
      "source": [
        "### Decision tree algorithm with hyperparameters tuning\n",
        "\n",
        "def decision_tree_classifier(criterion, max_depth, remove_var, balance, outliers):\n",
        "\n",
        "  data = airlines\n",
        "  for var in remove_var :\n",
        "    data = rmv_var(data, var)\n",
        "\n",
        "  #data = imbalance_data(data)\n",
        "  #data = rmv_outliers(data)\n",
        "\n",
        "  target = data['Class']\n",
        "  predictors = data.drop(['Class'], axis=1)\n",
        "\n",
        "  n_folds = 5\n",
        "\n",
        "  kf = KFold(n_splits=n_folds)\n",
        "\n",
        "  metrics = []\n",
        "  conf_matrix = np.zeros((2,2))\n",
        "\n",
        "  for train_index, test_index in kf.split(predictors):\n",
        "\n",
        "    x_train, x_test = predictors.iloc[train_index], predictors.iloc[test_index]\n",
        "    y_train, y_test = target.iloc[train_index], target.iloc[test_index]\n",
        "\n",
        "    data_train = pd.concat([x_train, y_train], axis=1);\n",
        "\n",
        "    if balance == 1:\n",
        "      data_train = imbalance_data(data_train)\n",
        "    if outliers == 1:\n",
        "      data_train = rmv_outliers(data_train)\n",
        "\n",
        "    x_train = data_train.drop(['Class'], axis=1)\n",
        "    y_train = data_train['Class']\n",
        "\n",
        "    clf = DecisionTreeClassifier(criterion = criterion, max_depth = max_depth, random_state = 42)\n",
        "    clf.fit(x_train, y_train)\n",
        "\n",
        "    y_pred = clf.predict(x_test)\n",
        "    conf_matrix += confusion_matrix(y_test, y_pred)\n",
        "\n",
        "  print(\"Confusion matrix:\\n\\n\")\n",
        "  print(conf_matrix)\n",
        "  print(\"\\n\\n\")\n",
        "\n",
        "  tn = conf_matrix[0,0]\n",
        "  fp = conf_matrix[0,1]\n",
        "  fn = conf_matrix[1,0]\n",
        "  tp = conf_matrix[1,1]\n",
        "\n",
        "  accuracy = (tp + tn) / (tp + tn + fp + fn)\n",
        "  precision = tp / (tp + fp)\n",
        "  recall = tp / (tp + fn)\n",
        "  f1 = 2 * (precision * recall) / (precision + recall)\n",
        "\n",
        "  metrics.append(round(accuracy * 100, 2))\n",
        "  metrics.append(round(f1 * 100, 2))\n",
        "  metrics.append(round(precision * 100, 2))\n",
        "  metrics.append(round(recall * 100, 2))\n",
        "\n",
        "  print(f\"Accuracy: {round(accuracy * 100, 2)} \" + f\"F1 Score: {round(f1 * 100, 2)} \" + f\"Precision: {round(precision * 100, 2)} \" + f\"Recall: {round(recall * 100, 2)}\")\n",
        "  return metrics"
      ],
      "metadata": {
        "id": "a3JkQW05fBRl"
      },
      "execution_count": null,
      "outputs": []
    },
    {
      "cell_type": "code",
      "source": [
        "### Decision tree experiments\n",
        "\n",
        "## Criterion selection\n",
        "\n",
        "sets = []\n",
        "\n",
        "set1 = decision_tree_classifier('gini', 7, [], 1, 1)\n",
        "set2 = decision_tree_classifier('entropy', 7, [], 1, 1)\n",
        "\n",
        "sets.append(set1)\n",
        "sets.append(set2)\n",
        "\n",
        "plot(sets, 0.15)\n",
        "\n",
        "## There are no big differences in the metric used for the algorithm, so we will continue with the gini metric."
      ],
      "metadata": {
        "colab": {
          "base_uri": "https://localhost:8080/",
          "height": 470
        },
        "id": "EMToURKxaUjG",
        "outputId": "02d42ba9-d766-4dc9-905c-38ba91894198"
      },
      "execution_count": null,
      "outputs": [
        {
          "output_type": "stream",
          "name": "stdout",
          "text": [
            "Accuracy: 63.1 F1 Score: 59.24 Precision: 58.31 Recall: 60.2\n",
            "Accuracy: 63.05 F1 Score: 59.21 Precision: 58.24 Recall: 60.22\n"
          ]
        },
        {
          "output_type": "display_data",
          "data": {
            "text/plain": [
              "<Figure size 640x480 with 1 Axes>"
            ],
            "image/png": "[encoded data removed]"
          },
          "metadata": {}
        }
      ]
    },
    {
      "cell_type": "code",
      "source": [
        "## Balanced vs imbalanced\n",
        "\n",
        "sets = []\n",
        "\n",
        "set1 = decision_tree_classifier('gini', 3, [], 0, 0)\n",
        "set2 = decision_tree_classifier('gini', 3, [], 0, 1)\n",
        "set3 = decision_tree_classifier('gini', 3, [], 1, 0)\n",
        "set4 = decision_tree_classifier('gini', 3, [], 1, 1)\n",
        "\n",
        "sets.append(set1)\n",
        "sets.append(set2)\n",
        "sets.append(set3)\n",
        "sets.append(set4)\n",
        "\n",
        "plot(sets, 0.15)"
      ],
      "metadata": {
        "colab": {
          "base_uri": "https://localhost:8080/",
          "height": 504
        },
        "id": "UCM8DAVdpNki",
        "outputId": "8c6c6ec2-b6de-4047-d121-175fca30b920"
      },
      "execution_count": null,
      "outputs": [
        {
          "output_type": "stream",
          "name": "stdout",
          "text": [
            "Accuracy: 62.39 F1 Score: 34.53 Precision: 76.85 Recall: 22.27\n",
            "Accuracy: 62.4 F1 Score: 34.59 Precision: 76.81 Recall: 22.32\n",
            "Accuracy: 60.8 F1 Score: 57.4 Precision: 55.63 Recall: 59.28\n",
            "Accuracy: 60.81 F1 Score: 57.4 Precision: 55.65 Recall: 59.26\n"
          ]
        },
        {
          "output_type": "display_data",
          "data": {
            "text/plain": [
              "<Figure size 640x480 with 1 Axes>"
            ],
            "image/png": "[encoded data removed]"
          },
          "metadata": {}
        }
      ]
    },
    {
      "cell_type": "code",
      "source": [
        "## Check whether Flight ID influences the classification or not\n",
        "\n",
        "sets = []\n",
        "\n",
        "set1 = decision_tree_classifier('gini', 7, [], 1, 0)\n",
        "set2 = decision_tree_classifier('gini', 7, ['Flight'], 1, 0)\n",
        "\n",
        "sets.append(set1)\n",
        "sets.append(set2)\n",
        "\n",
        "plot(sets, 0.15)\n",
        "\n",
        "## We notice that (as we also saw in task 1) Flight ID does not influence the prediction of the target variable at all."
      ],
      "metadata": {
        "colab": {
          "base_uri": "https://localhost:8080/",
          "height": 470
        },
        "id": "VqgS2mHeiwZz",
        "outputId": "7b6b5aae-f780-4b09-f784-2e34dd63a16d"
      },
      "execution_count": null,
      "outputs": [
        {
          "output_type": "stream",
          "name": "stdout",
          "text": [
            "Accuracy: 63.1 F1 Score: 59.24 Precision: 58.31 Recall: 60.2\n",
            "Accuracy: 63.01 F1 Score: 59.24 Precision: 58.17 Recall: 60.35\n"
          ]
        },
        {
          "output_type": "display_data",
          "data": {
            "text/plain": [
              "<Figure size 640x480 with 1 Axes>"
            ],
            "image/png": "[encoded data removed]"
          },
          "metadata": {}
        }
      ]
    },
    {
      "cell_type": "code",
      "source": [
        "## We choose the best value of the max_depth parameter\n",
        "\n",
        "## The max_depth parameter represents the maximum depth a decision tree can reach.\n",
        "## The higher it is set, the more complex and accurate the tree can be in splitting the data, but it can also be more prone to overfitting.\n",
        "## Therefore, it is important to find a balance between the maximum depth of the tree and its performance on the data set.\n",
        "\n",
        "sets = []\n",
        "\n",
        "set1 = decision_tree_classifier('gini', None, ['Flight'], 1, 1) # 2 is default\n",
        "set2 = decision_tree_classifier('gini', 5, ['Flight'], 1, 1)\n",
        "set3 = decision_tree_classifier('gini', 7, ['Flight'], 1, 1)\n",
        "set4 = decision_tree_classifier('gini', 10, ['Flight'], 1, 1)\n",
        "set5 = decision_tree_classifier('gini', 13, ['Flight'], 1, 1)\n",
        "set6 = decision_tree_classifier('gini', 15, ['Flight'], 1, 1)\n",
        "\n",
        "sets.append(set1)\n",
        "sets.append(set2)\n",
        "sets.append(set3)\n",
        "sets.append(set4)\n",
        "sets.append(set5)\n",
        "sets.append(set6)\n",
        "\n",
        "plot(sets, 0.10)"
      ],
      "metadata": {
        "colab": {
          "base_uri": "https://localhost:8080/",
          "height": 539
        },
        "id": "j90vpDm8jGNi",
        "outputId": "e4b8256d-6ae9-43a9-fb57-d04ec90383f8"
      },
      "execution_count": null,
      "outputs": [
        {
          "output_type": "stream",
          "name": "stdout",
          "text": [
            "Accuracy: 60.4 F1 Score: 51.86 Precision: 56.55 Recall: 47.88\n",
            "Accuracy: 63.12 F1 Score: 56.0 Precision: 59.75 Recall: 52.7\n",
            "Accuracy: 63.01 F1 Score: 59.24 Precision: 58.17 Recall: 60.35\n",
            "Accuracy: 63.86 F1 Score: 59.63 Precision: 59.34 Recall: 59.93\n",
            "Accuracy: 63.96 F1 Score: 60.01 Precision: 59.33 Recall: 60.69\n",
            "Accuracy: 63.65 F1 Score: 59.47 Precision: 59.08 Recall: 59.87\n"
          ]
        },
        {
          "output_type": "display_data",
          "data": {
            "text/plain": [
              "<Figure size 640x480 with 1 Axes>"
            ],
            "image/png": "[encoded data removed]"
          },
          "metadata": {}
        }
      ]
    },
    {
      "cell_type": "code",
      "source": [
        "### The combination of hyperparameters chosen is:\n",
        "\n",
        "### decision_tree_classifier('gini', 13, ['Flight'], 1, 1)\n",
        "\n",
        "## This choice was made following the metrics that must have values as high as possible and at the same time there must be a balance between precision and recall.\n",
        "\n",
        "## Accuracy : the correct prediction divided by the total number in the matrix\n",
        "## Precision : how many of the courts that clf marked as positive are really positive\n",
        "## Recall : how well it identifies positive cases from the total number of positive cases\n",
        "## F1-score : a measure of precision and recall (detection rate) for a binary classification model,\n",
        "##            which combines the two measurements to obtain a single value that represents the overall performance of the model\n",
        "\n",
        "## Filters on certain main components detected in previous tasks\n",
        "\n",
        "set1 = decision_tree_classifier('gini', 13, ['Flight'], 1, 1)\n",
        "set1 = decision_tree_classifier('gini', 13, ['Flight', 'Time'], 1, 1)\n",
        "set1 = decision_tree_classifier('gini', 13, ['Flight', 'Airline'], 1, 1)\n",
        "set1 = decision_tree_classifier('gini', 13, ['Flight', 'Length'], 1, 1)\n",
        "set1 = decision_tree_classifier('gini', 13, ['Flight', 'Length', 'Airline', 'AirportFrom', 'AirportTo'], 1, 1)\n",
        "set1 = decision_tree_classifier('gini', 13, ['Flight', 'DayOfWeek', 'Airline', 'AirportFrom', 'AirportTo'], 1, 1)\n",
        "set1 = decision_tree_classifier('gini', 13, ['Flight', 'Length', 'Time', 'DayOfWeek'], 1, 1)"
      ],
      "metadata": {
        "colab": {
          "base_uri": "https://localhost:8080/"
        },
        "id": "GFAnwN38tB0w",
        "outputId": "ea2ad5db-b34f-45c3-c9ed-dba9736f557b"
      },
      "execution_count": null,
      "outputs": [
        {
          "output_type": "stream",
          "name": "stdout",
          "text": [
            "Accuracy: 63.96 F1 Score: 60.01 Precision: 59.33 Recall: 60.69\n",
            "Accuracy: 62.87 F1 Score: 57.4 Precision: 58.7 Recall: 56.15\n",
            "Accuracy: 60.1 F1 Score: 59.09 Precision: 54.39 Recall: 64.69\n",
            "Accuracy: 63.91 F1 Score: 59.68 Precision: 59.41 Recall: 59.96\n",
            "Accuracy: 56.28 F1 Score: 58.28 Precision: 50.69 Recall: 68.55\n",
            "Accuracy: 58.33 F1 Score: 58.15 Precision: 52.61 Recall: 64.99\n",
            "Accuracy: 63.22 F1 Score: 57.48 Precision: 59.25 Recall: 55.82\n"
          ]
        }
      ]
    },
    {
      "cell_type": "markdown",
      "source": [
        "RANDOM FOREST CLASSIFIER"
      ],
      "metadata": {
        "id": "RDAMynsixs2E"
      }
    },
    {
      "cell_type": "code",
      "source": [
        "### Random forest algorithm with hyperparameters tuning\n",
        "\n",
        "def random_forest_classifier(n_estimators, criterion, max_depth, remove_var, balance, outliers):\n",
        "\n",
        "  data = airlines\n",
        "  for var in remove_var :\n",
        "    data = rmv_var(data, var)\n",
        "\n",
        "  #data = imbalance_data(data)\n",
        "  #data = rmv_outliers(data)\n",
        "\n",
        "  target = data['Class']\n",
        "  predictors = data.drop(['Class'], axis=1)\n",
        "\n",
        "  n_folds = 5\n",
        "\n",
        "  kf = KFold(n_splits=n_folds)\n",
        "\n",
        "  metrics = []\n",
        "  conf_matrix = np.zeros((2,2))\n",
        "\n",
        "  for train_index, test_index in kf.split(predictors):\n",
        "\n",
        "    x_train, x_test = predictors.iloc[train_index], predictors.iloc[test_index]\n",
        "    y_train, y_test = target.iloc[train_index], target.iloc[test_index]\n",
        "\n",
        "    data_train = pd.concat([x_train, y_train], axis=1);\n",
        "\n",
        "    if balance == 1:\n",
        "      data_train = imbalance_data(data_train)\n",
        "    if outliers == 1:\n",
        "      data_train = rmv_outliers(data_train)\n",
        "\n",
        "    x_train = data_train.drop(['Class'], axis=1)\n",
        "    y_train = data_train['Class']\n",
        "\n",
        "    clf = RandomForestClassifier(n_estimators = n_estimators, criterion = criterion, max_depth = max_depth, random_state = 42)\n",
        "    clf.fit(x_train, y_train)\n",
        "\n",
        "    y_pred = clf.predict(x_test)\n",
        "    conf_matrix += confusion_matrix(y_test, y_pred)\n",
        "\n",
        "  print(\"Confusion matrix:\\n\\n\")\n",
        "  print(conf_matrix)\n",
        "  print(\"\\n\\n\")\n",
        "\n",
        "  tn = conf_matrix[0,0]\n",
        "  fp = conf_matrix[0,1]\n",
        "  fn = conf_matrix[1,0]\n",
        "  tp = conf_matrix[1,1]\n",
        "\n",
        "  accuracy = (tp + tn) / (tp + tn + fp + fn)\n",
        "  precision = tp / (tp + fp)\n",
        "  recall = tp / (tp + fn)\n",
        "  f1 = 2 * (precision * recall) / (precision + recall)\n",
        "\n",
        "  metrics.append(round(accuracy * 100, 2))\n",
        "  metrics.append(round(f1 * 100, 2))\n",
        "  metrics.append(round(precision * 100, 2))\n",
        "  metrics.append(round(recall * 100, 2))\n",
        "\n",
        "  print(f\"Accuracy: {round(accuracy * 100, 2)} \" + f\"F1 Score: {round(f1 * 100, 2)} \" + f\"Precision: {round(precision * 100, 2)} \" + f\"Recall: {round(recall * 100, 2)}\")\n",
        "  return metrics"
      ],
      "metadata": {
        "id": "hZL4ijdnyCl1"
      },
      "execution_count": null,
      "outputs": []
    },
    {
      "cell_type": "code",
      "source": [
        "## Choose an acceptable number of estimators (numbers of decision trees used)\n",
        "\n",
        "sets = []\n",
        "\n",
        "set1 = random_forest_classifier(1, 'gini', 13, [], 1, 1)\n",
        "set2 = random_forest_classifier(5, 'gini', 13, [], 1, 1)\n",
        "set3 = random_forest_classifier(10, 'gini', 13, [], 1, 1)\n",
        "set4 = random_forest_classifier(20, 'gini', 13, [], 1, 1)\n",
        "set5 = random_forest_classifier(50, 'gini', 13, [], 1, 1)\n",
        "set6 = random_forest_classifier(100, 'gini', 13, [], 1, 1)\n",
        "\n",
        "sets.append(set1)\n",
        "sets.append(set2)\n",
        "sets.append(set3)\n",
        "sets.append(set4)\n",
        "sets.append(set5)\n",
        "sets.append(set6)\n",
        "\n",
        "plot(sets, 0.10)\n",
        "\n",
        "## We can see that there are no big differences between 10 and 100 estimators, so for a good classification a very large number\n",
        "## of estimators would be needed, which would take a lot of time."
      ],
      "metadata": {
        "colab": {
          "base_uri": "https://localhost:8080/",
          "height": 539
        },
        "id": "hYgYfl0vzeq6",
        "outputId": "7e111eeb-f7a9-4438-be15-c8d5f496c8c2"
      },
      "execution_count": null,
      "outputs": [
        {
          "output_type": "stream",
          "name": "stdout",
          "text": [
            "Accuracy: 62.41 F1 Score: 57.78 Precision: 57.81 Recall: 57.74\n",
            "Accuracy: 64.74 F1 Score: 60.02 Precision: 60.64 Recall: 59.41\n",
            "Accuracy: 65.22 F1 Score: 60.58 Precision: 61.17 Recall: 60.0\n",
            "Accuracy: 65.49 F1 Score: 60.78 Precision: 61.54 Recall: 60.05\n",
            "Accuracy: 65.68 F1 Score: 60.92 Precision: 61.82 Recall: 60.05\n",
            "Accuracy: 65.77 F1 Score: 60.97 Precision: 61.96 Recall: 60.02\n"
          ]
        },
        {
          "output_type": "display_data",
          "data": {
            "text/plain": [
              "<Figure size 640x480 with 1 Axes>"
            ],
            "image/png": "[encoded data removed]"
          },
          "metadata": {}
        }
      ]
    },
    {
      "cell_type": "code",
      "source": [
        "## We see which metric is better after choosing the number of estimators\n",
        "\n",
        "sets = []\n",
        "\n",
        "set1 = random_forest_classifier(50, 'gini', 13, [], 1, 1)\n",
        "set2 = random_forest_classifier(50, 'entropy', 13, [], 1, 1)\n",
        "\n",
        "sets.append(set1)\n",
        "sets.append(set2)\n",
        "\n",
        "plot(sets, 0.15)\n",
        "\n",
        "## The chosen metric doesn't matter here either, so we'll use gini further on."
      ],
      "metadata": {
        "colab": {
          "base_uri": "https://localhost:8080/",
          "height": 470
        },
        "id": "_9X4IF6BBWOF",
        "outputId": "4fcdb06c-c786-4247-9604-7d5da6954454"
      },
      "execution_count": null,
      "outputs": [
        {
          "output_type": "stream",
          "name": "stdout",
          "text": [
            "Accuracy: 65.68 F1 Score: 60.92 Precision: 61.82 Recall: 60.05\n",
            "Accuracy: 65.63 F1 Score: 60.89 Precision: 61.75 Recall: 60.06\n"
          ]
        },
        {
          "output_type": "display_data",
          "data": {
            "text/plain": [
              "<Figure size 640x480 with 1 Axes>"
            ],
            "image/png": "[encoded data removed]"
          },
          "metadata": {}
        }
      ]
    },
    {
      "cell_type": "code",
      "source": [
        "## We choose the best value of the max_depth parameter\n",
        "\n",
        "sets = []\n",
        "\n",
        "set1 = random_forest_classifier(50, 'gini', None, [], 1, 1)\n",
        "set2 = random_forest_classifier(50, 'gini', 5, [], 1, 1)\n",
        "set3 = random_forest_classifier(50, 'gini', 10, [], 1, 1)\n",
        "set4 = random_forest_classifier(50, 'gini', 13, [], 1, 1)\n",
        "set5 = random_forest_classifier(50, 'gini', 15, [], 1, 1)\n",
        "\n",
        "sets.append(set1)\n",
        "sets.append(set2)\n",
        "sets.append(set3)\n",
        "sets.append(set4)\n",
        "sets.append(set5)\n",
        "\n",
        "plot(sets, 0.15)"
      ],
      "metadata": {
        "colab": {
          "base_uri": "https://localhost:8080/",
          "height": 522
        },
        "id": "fjE58hIeBWVK",
        "outputId": "91a62eea-c016-4ce7-c815-a289ac9b43bb"
      },
      "execution_count": null,
      "outputs": [
        {
          "output_type": "stream",
          "name": "stdout",
          "text": [
            "Accuracy: 61.41 F1 Score: 54.9 Precision: 57.27 Recall: 52.72\n",
            "Accuracy: 62.75 F1 Score: 58.08 Precision: 58.23 Recall: 57.93\n",
            "Accuracy: 64.79 F1 Score: 59.99 Precision: 60.74 Recall: 59.26\n",
            "Accuracy: 65.68 F1 Score: 60.92 Precision: 61.82 Recall: 60.05\n",
            "Accuracy: 65.9 F1 Score: 60.98 Precision: 62.18 Recall: 59.83\n"
          ]
        },
        {
          "output_type": "display_data",
          "data": {
            "text/plain": [
              "<Figure size 640x480 with 1 Axes>"
            ],
            "image/png": "[encoded data removed]"
          },
          "metadata": {}
        }
      ]
    },
    {
      "cell_type": "code",
      "source": [
        "## Balanced vs imbalanced\n",
        "\n",
        "sets = []\n",
        "\n",
        "set1 = random_forest_classifier(50, 'gini', 13, ['Flight'], 0, 0)\n",
        "set2 = random_forest_classifier(50, 'gini', 13, ['Flight'], 0, 1)\n",
        "set3 = random_forest_classifier(50, 'gini', 13, ['Flight'], 1, 0)\n",
        "set4 = random_forest_classifier(50, 'gini', 13, ['Flight'], 1, 1)\n",
        "\n",
        "sets.append(set1)\n",
        "sets.append(set2)\n",
        "sets.append(set3)\n",
        "sets.append(set4)\n",
        "\n",
        "plot(sets, 0.10)"
      ],
      "metadata": {
        "colab": {
          "base_uri": "https://localhost:8080/",
          "height": 504
        },
        "id": "q_wqN0C_BWb6",
        "outputId": "f1a9d970-24ce-4f47-8ec9-8fb99631380f"
      },
      "execution_count": null,
      "outputs": [
        {
          "output_type": "stream",
          "name": "stdout",
          "text": [
            "Accuracy: 66.15 F1 Score: 54.55 Precision: 67.85 Recall: 45.62\n",
            "Accuracy: 65.96 F1 Score: 54.2 Precision: 67.63 Recall: 45.22\n",
            "Accuracy: 65.69 F1 Score: 60.64 Precision: 62.01 Recall: 59.33\n",
            "Accuracy: 65.59 F1 Score: 60.42 Precision: 61.96 Recall: 58.96\n"
          ]
        },
        {
          "output_type": "display_data",
          "data": {
            "text/plain": [
              "<Figure size 640x480 with 1 Axes>"
            ],
            "image/png": "[encoded data removed]"
          },
          "metadata": {}
        }
      ]
    },
    {
      "cell_type": "code",
      "source": [
        "### The combination of hyperparameters chosen is:\n",
        "\n",
        "### random_forest_classifier(50, 'gini', 13, ['Flight'], 1, 1)"
      ],
      "metadata": {
        "id": "fxG1TyXIVCSH"
      },
      "execution_count": null,
      "outputs": []
    },
    {
      "cell_type": "markdown",
      "source": [
        "XG BOOST"
      ],
      "metadata": {
        "id": "uQAGm401Kjgq"
      }
    },
    {
      "cell_type": "code",
      "source": [
        "### XG Boost algorithm with hyperparameters tuning\n",
        "\n",
        "def xg_boost_classifier(n_estimators, max_depth, learning_rate, remove_var, balance, outliers):\n",
        "\n",
        "  data = airlines\n",
        "  for var in remove_var :\n",
        "    data = rmv_var(data, var)\n",
        "\n",
        "  #data = imbalance_data(data)\n",
        "  #data = rmv_outliers(data)\n",
        "\n",
        "  target = data['Class']\n",
        "  predictors = data.drop(['Class'], axis=1)\n",
        "\n",
        "  n_folds = 5\n",
        "\n",
        "  kf = KFold(n_splits=n_folds)\n",
        "\n",
        "  metrics = []\n",
        "  conf_matrix = np.zeros((2,2))\n",
        "\n",
        "  for train_index, test_index in kf.split(predictors):\n",
        "\n",
        "    x_train, x_test = predictors.iloc[train_index], predictors.iloc[test_index]\n",
        "    y_train, y_test = target.iloc[train_index], target.iloc[test_index]\n",
        "\n",
        "    data_train = pd.concat([x_train, y_train], axis=1);\n",
        "\n",
        "    if balance == 1:\n",
        "      data_train = imbalance_data(data_train)\n",
        "    if outliers == 1:\n",
        "      data_train = rmv_outliers(data_train)\n",
        "\n",
        "    x_train = data_train.drop(['Class'], axis=1)\n",
        "    y_train = data_train['Class']\n",
        "\n",
        "    clf = XGBClassifier(n_estimators = n_estimators, max_depth = max_depth, learning_rate = learning_rate, random_state = 42)\n",
        "    clf.fit(x_train, y_train)\n",
        "\n",
        "    y_pred = clf.predict(x_test)\n",
        "    conf_matrix += confusion_matrix(y_test, y_pred)\n",
        "\n",
        "  print(\"Confusion matrix:\\n\\n\")\n",
        "  print(conf_matrix)\n",
        "  print(\"\\n\\n\")\n",
        "\n",
        "  tn = conf_matrix[0,0]\n",
        "  fp = conf_matrix[0,1]\n",
        "  fn = conf_matrix[1,0]\n",
        "  tp = conf_matrix[1,1]\n",
        "\n",
        "  accuracy = (tp + tn) / (tp + tn + fp + fn)\n",
        "  precision = tp / (tp + fp)\n",
        "  recall = tp / (tp + fn)\n",
        "  f1 = 2 * (precision * recall) / (precision + recall)\n",
        "\n",
        "  metrics.append(round(accuracy * 100, 2))\n",
        "  metrics.append(round(f1 * 100, 2))\n",
        "  metrics.append(round(precision * 100, 2))\n",
        "  metrics.append(round(recall * 100, 2))\n",
        "\n",
        "  print(f\"Accuracy: {round(accuracy * 100, 2)} \" + f\"F1 Score: {round(f1 * 100, 2)} \" + f\"Precision: {round(precision * 100, 2)} \" + f\"Recall: {round(recall * 100, 2)}\")\n",
        "  return metrics"
      ],
      "metadata": {
        "id": "UiiNPiypLZ6e"
      },
      "execution_count": null,
      "outputs": []
    },
    {
      "cell_type": "code",
      "source": [
        "## Choose an acceptable number of estimators (numbers of decision trees used)\n",
        "\n",
        "sets = []\n",
        "\n",
        "set1 = xg_boost_classifier(1, 10, 0.3, ['Flight'], 1, 1)\n",
        "set2 = xg_boost_classifier(5, 10, 0.3, ['Flight'], 1, 1)\n",
        "set3 = xg_boost_classifier(10, 10, 0.3, ['Flight'], 1, 1)\n",
        "set4 = xg_boost_classifier(20, 10, 0.3, ['Flight'], 1, 1)\n",
        "set5 = xg_boost_classifier(50, 10, 0.3, ['Flight'], 1, 1)\n",
        "set6 = xg_boost_classifier(100, 10, 0.3, ['Flight'], 1, 1)\n",
        "\n",
        "sets.append(set1)\n",
        "sets.append(set2)\n",
        "sets.append(set3)\n",
        "sets.append(set4)\n",
        "sets.append(set5)\n",
        "sets.append(set6)\n",
        "\n",
        "plot(sets, 0.10)"
      ],
      "metadata": {
        "colab": {
          "base_uri": "https://localhost:8080/",
          "height": 539
        },
        "id": "OgrSH1syVoLo",
        "outputId": "6a2f50c1-2de2-45d5-9ba7-40e463af7ee3"
      },
      "execution_count": null,
      "outputs": [
        {
          "output_type": "stream",
          "name": "stdout",
          "text": [
            "Accuracy: 63.8 F1 Score: 59.74 Precision: 59.2 Recall: 60.28\n",
            "Accuracy: 64.84 F1 Score: 60.33 Precision: 60.64 Recall: 60.03\n",
            "Accuracy: 65.35 F1 Score: 60.72 Precision: 61.33 Recall: 60.12\n",
            "Accuracy: 65.67 F1 Score: 61.1 Precision: 61.69 Recall: 60.53\n",
            "Accuracy: 65.94 F1 Score: 61.34 Precision: 62.03 Recall: 60.66\n",
            "Accuracy: 65.85 F1 Score: 61.11 Precision: 62.01 Recall: 60.24\n"
          ]
        },
        {
          "output_type": "display_data",
          "data": {
            "text/plain": [
              "<Figure size 640x480 with 1 Axes>"
            ],
            "image/png": "[encoded data removed]"
          },
          "metadata": {}
        }
      ]
    },
    {
      "cell_type": "code",
      "source": [
        "## We choose the best value of the max_depth parameter\n",
        "\n",
        "sets = []\n",
        "\n",
        "set1 = xg_boost_classifier(50, None, 0.3, ['Flight'], 1, 1)\n",
        "set2 = xg_boost_classifier(50, 5, 0.3, ['Flight'], 1, 1)\n",
        "set3 = xg_boost_classifier(50, 10, 0.3, ['Flight'], 1, 1)\n",
        "set4 = xg_boost_classifier(50, 13, 0.3, ['Flight'], 1, 1)\n",
        "set5 = xg_boost_classifier(50, 15, 0.3, ['Flight'], 1, 1)\n",
        "\n",
        "sets.append(set1)\n",
        "sets.append(set2)\n",
        "sets.append(set3)\n",
        "sets.append(set4)\n",
        "sets.append(set5)\n",
        "\n",
        "plot(sets, 0.10)"
      ],
      "metadata": {
        "colab": {
          "base_uri": "https://localhost:8080/",
          "height": 522
        },
        "id": "kxRyjsN7eliO",
        "outputId": "7b7db0e5-62bf-47b3-b216-d59c643ab667"
      },
      "execution_count": null,
      "outputs": [
        {
          "output_type": "stream",
          "name": "stdout",
          "text": [
            "Accuracy: 65.36 F1 Score: 60.78 Precision: 61.32 Recall: 60.24\n",
            "Accuracy: 65.1 F1 Score: 60.47 Precision: 61.02 Recall: 59.93\n",
            "Accuracy: 65.94 F1 Score: 61.34 Precision: 62.03 Recall: 60.66\n",
            "Accuracy: 65.25 F1 Score: 60.22 Precision: 61.44 Recall: 59.04\n",
            "Accuracy: 64.33 F1 Score: 58.77 Precision: 60.57 Recall: 57.08\n"
          ]
        },
        {
          "output_type": "display_data",
          "data": {
            "text/plain": [
              "<Figure size 640x480 with 1 Axes>"
            ],
            "image/png": "[encoded data removed]"
          },
          "metadata": {}
        }
      ]
    },
    {
      "cell_type": "code",
      "source": [
        "## We choose the best learning_rate\n",
        "\n",
        "sets = []\n",
        "\n",
        "set1 = xg_boost_classifier(50, 10, 0.05, ['Flight'], 1, 1)\n",
        "set2 = xg_boost_classifier(50, 10, 0.1, ['Flight'], 1, 1)\n",
        "set3 = xg_boost_classifier(50, 10, 0.3, ['Flight'], 1, 1)\n",
        "set4 = xg_boost_classifier(50, 10, 0.8, ['Flight'], 1, 1)\n",
        "\n",
        "sets.append(set1)\n",
        "sets.append(set2)\n",
        "sets.append(set3)\n",
        "sets.append(set4)\n",
        "\n",
        "plot(sets, 0.10)"
      ],
      "metadata": {
        "colab": {
          "base_uri": "https://localhost:8080/",
          "height": 504
        },
        "id": "D1dgg1YUfCrB",
        "outputId": "fdba6534-2936-473c-df9c-0285903a8729"
      },
      "execution_count": null,
      "outputs": [
        {
          "output_type": "stream",
          "name": "stdout",
          "text": [
            "Accuracy: 65.56 F1 Score: 60.88 Precision: 61.62 Recall: 60.15\n",
            "Accuracy: 65.98 F1 Score: 61.25 Precision: 62.16 Recall: 60.37\n",
            "Accuracy: 65.94 F1 Score: 61.34 Precision: 62.03 Recall: 60.66\n",
            "Accuracy: 64.67 F1 Score: 60.01 Precision: 60.51 Recall: 59.52\n"
          ]
        },
        {
          "output_type": "display_data",
          "data": {
            "text/plain": [
              "<Figure size 640x480 with 1 Axes>"
            ],
            "image/png": "[encoded data removed]"
          },
          "metadata": {}
        }
      ]
    },
    {
      "cell_type": "code",
      "source": [
        "### The combination of hyperparameters chosen is:\n",
        "\n",
        "### xg_boost_classifier(50, 10, 0.3, ['Flight'], 1, 1)"
      ],
      "metadata": {
        "id": "EifNvZ5qfW5B"
      },
      "execution_count": null,
      "outputs": []
    },
    {
      "cell_type": "markdown",
      "source": [
        "LOGISTIC REGRESSION"
      ],
      "metadata": {
        "id": "KjcUf8h8FLp8"
      }
    },
    {
      "cell_type": "code",
      "source": [
        "### Logistic regression algorithm with hyperparameters tuning\n",
        "\n",
        "def logistic_regression_classifier(solver, multi_class, penalty, max_iter, remove_var, balance, outliers):\n",
        "\n",
        "  data = airlines\n",
        "  for var in remove_var :\n",
        "    data = rmv_var(data, var)\n",
        "\n",
        "  #data = imbalance_data(data)\n",
        "  #data = rmv_outliers(data)\n",
        "\n",
        "  target = data['Class']\n",
        "  predictors = data.drop(['Class'], axis=1)\n",
        "\n",
        "  n_folds = 5\n",
        "\n",
        "  kf = KFold(n_splits=n_folds)\n",
        "\n",
        "  metrics = []\n",
        "  conf_matrix = np.zeros((2,2))\n",
        "\n",
        "  for train_index, test_index in kf.split(predictors):\n",
        "\n",
        "    x_train, x_test = predictors.iloc[train_index], predictors.iloc[test_index]\n",
        "    y_train, y_test = target.iloc[train_index], target.iloc[test_index]\n",
        "\n",
        "    data_train = pd.concat([x_train, y_train], axis=1);\n",
        "\n",
        "    if balance == 1:\n",
        "      data_train = imbalance_data(data_train)\n",
        "    if outliers == 1:\n",
        "      data_train = rmv_outliers(data_train)\n",
        "\n",
        "    x_train = data_train.drop(['Class'], axis=1)\n",
        "    y_train = data_train['Class']\n",
        "\n",
        "    clf = LogisticRegression(solver = solver, multi_class = multi_class, penalty = penalty, max_iter = max_iter, random_state = 42)\n",
        "    clf.fit(x_train, y_train)\n",
        "\n",
        "    y_pred = clf.predict(x_test)\n",
        "    conf_matrix += confusion_matrix(y_test, y_pred)\n",
        "\n",
        "  print(\"Confusion matrix:\\n\\n\")\n",
        "  print(conf_matrix)\n",
        "  print(\"\\n\\n\")\n",
        "\n",
        "  tn = conf_matrix[0,0]\n",
        "  fp = conf_matrix[0,1]\n",
        "  fn = conf_matrix[1,0]\n",
        "  tp = conf_matrix[1,1]\n",
        "\n",
        "  accuracy = (tp + tn) / (tp + tn + fp + fn)\n",
        "  precision = tp / (tp + fp)\n",
        "  recall = tp / (tp + fn)\n",
        "  f1 = 2 * (precision * recall) / (precision + recall)\n",
        "\n",
        "  metrics.append(round(accuracy * 100, 2))\n",
        "  metrics.append(round(f1 * 100, 2))\n",
        "  metrics.append(round(precision * 100, 2))\n",
        "  metrics.append(round(recall * 100, 2))\n",
        "\n",
        "  print(f\"Accuracy: {round(accuracy * 100, 2)} \" + f\"F1 Score: {round(f1 * 100, 2)} \" + f\"Precision: {round(precision * 100, 2)} \" + f\"Recall: {round(recall * 100, 2)}\")\n",
        "  return metrics"
      ],
      "metadata": {
        "id": "d0YA3yqLFRA3"
      },
      "execution_count": null,
      "outputs": []
    },
    {
      "cell_type": "code",
      "source": [
        "## We try different algorithms to optimize the cost function\n",
        "\n",
        "sets = []\n",
        "\n",
        "set1 = logistic_regression_classifier('liblinear', 'auto', None, 1000, ['Flight'], 1, 1)\n",
        "set2 = logistic_regression_classifier('newton-cg', 'auto', None, 1000, ['Flight'], 1, 1)\n",
        "set3 = logistic_regression_classifier('lbfgs', 'auto', None, 1000, ['Flight'], 1, 1)\n",
        "set4 = logistic_regression_classifier('sag', 'auto', None, 1000, ['Flight'], 1, 1)\n",
        "\n",
        "sets.append(set1)\n",
        "sets.append(set2)\n",
        "sets.append(set3)\n",
        "sets.append(set4)\n",
        "\n",
        "plot(sets, 0.10)\n"
      ],
      "metadata": {
        "colab": {
          "base_uri": "https://localhost:8080/",
          "height": 767
        },
        "id": "nigUoGDVI_X6",
        "outputId": "ab135d92-1918-4998-a662-cf9bf46e12c7"
      },
      "execution_count": null,
      "outputs": [
        {
          "output_type": "stream",
          "name": "stdout",
          "text": [
            "Accuracy: 57.66 F1 Score: 54.96 Precision: 52.22 Recall: 58.0\n"
          ]
        },
        {
          "output_type": "stream",
          "name": "stderr",
          "text": [
            "/usr/local/lib/python3.9/dist-packages/scipy/optimize/_linesearch.py:306: LineSearchWarning: The line search algorithm did not converge\n",
            "  warn('The line search algorithm did not converge', LineSearchWarning)\n",
            "/usr/local/lib/python3.9/dist-packages/sklearn/utils/optimize.py:203: UserWarning: Line Search failed\n",
            "  warnings.warn(\"Line Search failed\")\n",
            "/usr/local/lib/python3.9/dist-packages/scipy/optimize/_linesearch.py:416: LineSearchWarning: Rounding errors prevent the line search from converging\n",
            "  warn(msg, LineSearchWarning)\n",
            "/usr/local/lib/python3.9/dist-packages/scipy/optimize/_linesearch.py:306: LineSearchWarning: The line search algorithm did not converge\n",
            "  warn('The line search algorithm did not converge', LineSearchWarning)\n",
            "/usr/local/lib/python3.9/dist-packages/sklearn/utils/optimize.py:203: UserWarning: Line Search failed\n",
            "  warnings.warn(\"Line Search failed\")\n",
            "/usr/local/lib/python3.9/dist-packages/scipy/optimize/_linesearch.py:306: LineSearchWarning: The line search algorithm did not converge\n",
            "  warn('The line search algorithm did not converge', LineSearchWarning)\n",
            "/usr/local/lib/python3.9/dist-packages/sklearn/utils/optimize.py:203: UserWarning: Line Search failed\n",
            "  warnings.warn(\"Line Search failed\")\n"
          ]
        },
        {
          "output_type": "stream",
          "name": "stdout",
          "text": [
            "Accuracy: 57.65 F1 Score: 54.94 Precision: 52.22 Recall: 57.96\n",
            "Accuracy: 57.65 F1 Score: 54.94 Precision: 52.22 Recall: 57.96\n",
            "Accuracy: 57.65 F1 Score: 54.96 Precision: 52.22 Recall: 58.0\n"
          ]
        },
        {
          "output_type": "display_data",
          "data": {
            "text/plain": [
              "<Figure size 640x480 with 1 Axes>"
            ],
            "image/png": "[encoded data removed]"
          },
          "metadata": {}
        }
      ]
    },
    {
      "cell_type": "code",
      "source": [
        "## We try different penaltys used for the cost function\n",
        "\n",
        "set1 = logistic_regression_classifier('liblinear', 'auto', 'none', 1000, ['Flight'], 1, 1)\n",
        "set2 = logistic_regression_classifier('liblinear', 'auto', 'l1', 1000, ['Flight'], 1, 1)\n",
        "set3 = logistic_regression_classifier('liblinear', 'auto', 'l2', 1000, ['Flight'], 1, 1)\n",
        "set4 = logistic_regression_classifier('liblinear', 'auto', 'elasticnet', 1000, ['Flight'], 1, 1)\n",
        "\n",
        "set5 = logistic_regression_classifier('lbfgs', 'auto', 'l2', 1000, ['Flight'], 1, 1)"
      ],
      "metadata": {
        "colab": {
          "base_uri": "https://localhost:8080/"
        },
        "id": "ELq-6WM5RLPp",
        "outputId": "aebc2f9d-f5b9-428b-df21-20edb818a8e0"
      },
      "execution_count": null,
      "outputs": [
        {
          "output_type": "stream",
          "name": "stdout",
          "text": [
            "Accuracy: 57.66 F1 Score: 54.96 Precision: 52.22 Recall: 58.0\n",
            "Accuracy: 57.66 F1 Score: 54.96 Precision: 52.22 Recall: 58.0\n",
            "Accuracy: 57.66 F1 Score: 54.96 Precision: 52.22 Recall: 58.0\n",
            "Accuracy: 57.66 F1 Score: 54.96 Precision: 52.22 Recall: 58.0\n",
            "Accuracy: 57.65 F1 Score: 54.94 Precision: 52.22 Recall: 57.96\n"
          ]
        }
      ]
    },
    {
      "cell_type": "code",
      "source": [
        "## We try different multi_class parameters to specify how to approach the classification problem\n",
        "\n",
        "set1 = logistic_regression_classifier('liblinear', 'auto', 'none', 1000, ['Flight'], 1, 1)\n",
        "set2 = logistic_regression_classifier('liblinear', 'ovr', 'none', 1000, ['Flight'], 1, 1)\n",
        "\n",
        "set3 = logistic_regression_classifier('lbfgs', 'ovr', 'l2', 1000, ['Flight'], 1, 1)"
      ],
      "metadata": {
        "colab": {
          "base_uri": "https://localhost:8080/"
        },
        "id": "H8SWKPdZSeIm",
        "outputId": "9d63eecf-be2e-4f54-8438-dc0129361b3b"
      },
      "execution_count": null,
      "outputs": [
        {
          "output_type": "stream",
          "name": "stdout",
          "text": [
            "Accuracy: 57.66 F1 Score: 54.96 Precision: 52.22 Recall: 58.0\n",
            "Accuracy: 57.66 F1 Score: 54.96 Precision: 52.22 Recall: 58.0\n",
            "Accuracy: 57.65 F1 Score: 54.94 Precision: 52.22 Recall: 57.96\n"
          ]
        }
      ]
    },
    {
      "cell_type": "code",
      "source": [
        "## We try different number of iterations\n",
        "\n",
        "sets = []\n",
        "\n",
        "set1 = logistic_regression_classifier('liblinear', 'auto', 'none', 1, ['Flight'], 1, 1)\n",
        "set2 = logistic_regression_classifier('liblinear', 'auto', 'none', 50, ['Flight'], 1, 1)\n",
        "set3 = logistic_regression_classifier('liblinear', 'auto', 'none', 300, ['Flight'], 1, 1)\n",
        "set4 = logistic_regression_classifier('liblinear', 'auto', 'none', 1000, ['Flight'], 1, 1)\n",
        "set5 = logistic_regression_classifier('liblinear', 'auto', 'none', 5000, ['Flight'], 1, 1)\n",
        "\n",
        "sets.append(set1)\n",
        "sets.append(set2)\n",
        "sets.append(set3)\n",
        "sets.append(set4)\n",
        "sets.append(set5)\n",
        "\n",
        "plot(sets, 0.10)\n",
        "\n",
        "## If the solution does not converge in the specified number of iterations, the solver will be stopped and the last solution will be returned."
      ],
      "metadata": {
        "colab": {
          "base_uri": "https://localhost:8080/",
          "height": 715
        },
        "id": "3eJkVaCPTnHq",
        "outputId": "e14f932d-7497-4b31-c4d2-fa60f1db4b94"
      },
      "execution_count": null,
      "outputs": [
        {
          "output_type": "stream",
          "name": "stderr",
          "text": [
            "/usr/local/lib/python3.9/dist-packages/sklearn/svm/_base.py:1244: ConvergenceWarning: Liblinear failed to converge, increase the number of iterations.\n",
            "  warnings.warn(\n",
            "/usr/local/lib/python3.9/dist-packages/sklearn/svm/_base.py:1244: ConvergenceWarning: Liblinear failed to converge, increase the number of iterations.\n",
            "  warnings.warn(\n",
            "/usr/local/lib/python3.9/dist-packages/sklearn/svm/_base.py:1244: ConvergenceWarning: Liblinear failed to converge, increase the number of iterations.\n",
            "  warnings.warn(\n",
            "/usr/local/lib/python3.9/dist-packages/sklearn/svm/_base.py:1244: ConvergenceWarning: Liblinear failed to converge, increase the number of iterations.\n",
            "  warnings.warn(\n",
            "/usr/local/lib/python3.9/dist-packages/sklearn/svm/_base.py:1244: ConvergenceWarning: Liblinear failed to converge, increase the number of iterations.\n",
            "  warnings.warn(\n"
          ]
        },
        {
          "output_type": "stream",
          "name": "stdout",
          "text": [
            "Accuracy: 52.16 F1 Score: 56.49 Precision: 47.48 Recall: 69.71\n",
            "Accuracy: 57.66 F1 Score: 54.96 Precision: 52.22 Recall: 58.0\n",
            "Accuracy: 57.66 F1 Score: 54.96 Precision: 52.22 Recall: 58.0\n",
            "Accuracy: 57.66 F1 Score: 54.96 Precision: 52.22 Recall: 58.0\n",
            "Accuracy: 57.66 F1 Score: 54.96 Precision: 52.22 Recall: 58.0\n"
          ]
        },
        {
          "output_type": "display_data",
          "data": {
            "text/plain": [
              "<Figure size 640x480 with 1 Axes>"
            ],
            "image/png": "[encoded data removed]"
          },
          "metadata": {}
        }
      ]
    },
    {
      "cell_type": "code",
      "source": [
        "### The combination of hyperparameters chosen is:\n",
        "\n",
        "### logistic_regression_classifier('liblinear', 'auto', 'none', 300, ['Flight'], 1, 1)"
      ],
      "metadata": {
        "id": "8bUvAJgjUsg6"
      },
      "execution_count": null,
      "outputs": []
    },
    {
      "cell_type": "markdown",
      "source": [
        "NAIVE BAYES"
      ],
      "metadata": {
        "id": "ZS3clXexKne9"
      }
    },
    {
      "cell_type": "code",
      "source": [
        "### Bayes naive algorithm\n",
        "\n",
        "def bayes_naive_classifier(remove_var, balance, outliers):\n",
        "\n",
        "  data = airlines\n",
        "  for var in remove_var :\n",
        "    data = rmv_var(data, var)\n",
        "\n",
        "  #data = imbalance_data(data)\n",
        "  #data = rmv_outliers(data)\n",
        "\n",
        "  target = data['Class']\n",
        "  predictors = data.drop(['Class'], axis=1)\n",
        "\n",
        "  n_folds = 5\n",
        "\n",
        "  kf = KFold(n_splits=n_folds)\n",
        "\n",
        "  metrics = []\n",
        "  conf_matrix = np.zeros((2,2))\n",
        "\n",
        "  for train_index, test_index in kf.split(predictors):\n",
        "\n",
        "    x_train, x_test = predictors.iloc[train_index], predictors.iloc[test_index]\n",
        "    y_train, y_test = target.iloc[train_index], target.iloc[test_index]\n",
        "\n",
        "    data_train = pd.concat([x_train, y_train], axis=1);\n",
        "\n",
        "    if balance == 1:\n",
        "      data_train = imbalance_data(data_train)\n",
        "    if outliers == 1:\n",
        "      data_train = rmv_outliers(data_train)\n",
        "\n",
        "    x_train = data_train.drop(['Class'], axis=1)\n",
        "    y_train = data_train['Class']\n",
        "\n",
        "    clf = GaussianNB()\n",
        "    clf.fit(x_train, y_train)\n",
        "\n",
        "    y_pred = clf.predict(x_test)\n",
        "    conf_matrix += confusion_matrix(y_test, y_pred)\n",
        "\n",
        "  print(\"Confusion matrix:\\n\\n\")\n",
        "  print(conf_matrix)\n",
        "  print(\"\\n\\n\")\n",
        "\n",
        "  tn = conf_matrix[0,0]\n",
        "  fp = conf_matrix[0,1]\n",
        "  fn = conf_matrix[1,0]\n",
        "  tp = conf_matrix[1,1]\n",
        "\n",
        "  accuracy = (tp + tn) / (tp + tn + fp + fn)\n",
        "  precision = tp / (tp + fp)\n",
        "  recall = tp / (tp + fn)\n",
        "  f1 = 2 * (precision * recall) / (precision + recall)\n",
        "\n",
        "  metrics.append(round(accuracy * 100, 2))\n",
        "  metrics.append(round(f1 * 100, 2))\n",
        "  metrics.append(round(precision * 100, 2))\n",
        "  metrics.append(round(recall * 100, 2))\n",
        "\n",
        "  print(f\"Accuracy: {round(accuracy * 100, 2)} \" + f\"F1 Score: {round(f1 * 100, 2)} \" + f\"Precision: {round(precision * 100, 2)} \" + f\"Recall: {round(recall * 100, 2)}\")\n",
        "  return metrics"
      ],
      "metadata": {
        "id": "bauprCEjaz3q"
      },
      "execution_count": null,
      "outputs": []
    },
    {
      "cell_type": "code",
      "source": [
        "## We have a parameter priors with prior probabilities of the classes\n",
        "\n",
        "set1 = bayes_naive_classifier(['Flight'], 0, 0)\n",
        "set2 = bayes_naive_classifier(['Flight'], 0, 1)\n",
        "set3 = bayes_naive_classifier(['Flight'], 1, 0)\n",
        "set4 = bayes_naive_classifier(['Flight'], 1, 1)"
      ],
      "metadata": {
        "colab": {
          "base_uri": "https://localhost:8080/"
        },
        "id": "McFiPAGfbLEw",
        "outputId": "bbf44a3e-6252-4aca-cf86-7f0369f2e175"
      },
      "execution_count": null,
      "outputs": [
        {
          "output_type": "stream",
          "name": "stdout",
          "text": [
            "Accuracy: 58.25 F1 Score: 43.72 Precision: 54.72 Recall: 36.41\n",
            "Accuracy: 58.23 F1 Score: 44.9 Precision: 54.44 Recall: 38.21\n",
            "Accuracy: 57.6 F1 Score: 55.9 Precision: 52.07 Recall: 60.34\n",
            "Accuracy: 57.58 F1 Score: 56.21 Precision: 52.03 Recall: 61.11\n"
          ]
        }
      ]
    },
    {
      "cell_type": "code",
      "source": [
        "### The combination of hyperparameters chosen is:\n",
        "\n",
        "### bayes_naive_classifier(['Flight'], 1, 1)"
      ],
      "metadata": {
        "id": "rYFUHGJfl0kw"
      },
      "execution_count": null,
      "outputs": []
    },
    {
      "cell_type": "markdown",
      "source": [
        "K-NN"
      ],
      "metadata": {
        "id": "ROAV3M6bLHgw"
      }
    },
    {
      "cell_type": "code",
      "source": [
        "### K-NN algorithm with hyperparameters tuning\n",
        "\n",
        "def k_nn_classifier(n_neighbors, metric, remove_var, balance, outliers):\n",
        "\n",
        "  data = airlines\n",
        "  for var in remove_var :\n",
        "    data = rmv_var(data, var)\n",
        "\n",
        "  #data = imbalance_data(data)\n",
        "  #data = rmv_outliers(data)\n",
        "\n",
        "  target = data['Class']\n",
        "  predictors = data.drop(['Class'], axis=1)\n",
        "\n",
        "  n_folds = 5\n",
        "\n",
        "  kf = KFold(n_splits=n_folds)\n",
        "\n",
        "  metrics = []\n",
        "  conf_matrix = np.zeros((2,2))\n",
        "\n",
        "  for train_index, test_index in kf.split(predictors):\n",
        "\n",
        "    x_train, x_test = predictors.iloc[train_index], predictors.iloc[test_index]\n",
        "    y_train, y_test = target.iloc[train_index], target.iloc[test_index]\n",
        "\n",
        "    data_train = pd.concat([x_train, y_train], axis=1);\n",
        "\n",
        "    if balance == 1:\n",
        "      data_train = imbalance_data(data_train)\n",
        "    if outliers == 1:\n",
        "      data_train = rmv_outliers(data_train)\n",
        "\n",
        "    x_train = data_train.drop(['Class'], axis=1)\n",
        "    y_train = data_train['Class']\n",
        "\n",
        "    clf = KNeighborsClassifier(n_neighbors = n_neighbors, metric = metric)\n",
        "    clf.fit(x_train, y_train)\n",
        "\n",
        "    y_pred = clf.predict(x_test)\n",
        "    conf_matrix += confusion_matrix(y_test, y_pred)\n",
        "\n",
        "  print(\"Confusion matrix:\\n\\n\")\n",
        "  print(conf_matrix)\n",
        "  print(\"\\n\\n\")\n",
        "\n",
        "  tn = conf_matrix[0,0]\n",
        "  fp = conf_matrix[0,1]\n",
        "  fn = conf_matrix[1,0]\n",
        "  tp = conf_matrix[1,1]\n",
        "\n",
        "  accuracy = (tp + tn) / (tp + tn + fp + fn)\n",
        "  precision = tp / (tp + fp)\n",
        "  recall = tp / (tp + fn)\n",
        "  f1 = 2 * (precision * recall) / (precision + recall)\n",
        "\n",
        "  metrics.append(round(accuracy * 100, 2))\n",
        "  metrics.append(round(f1 * 100, 2))\n",
        "  metrics.append(round(precision * 100, 2))\n",
        "  metrics.append(round(recall * 100, 2))\n",
        "\n",
        "  print(f\"Accuracy: {round(accuracy * 100, 2)} \" + f\"F1 Score: {round(f1 * 100, 2)} \" + f\"Precision: {round(precision * 100, 2)} \" + f\"Recall: {round(recall * 100, 2)}\")\n",
        "  return metrics"
      ],
      "metadata": {
        "id": "yssxabd5bu1m"
      },
      "execution_count": null,
      "outputs": []
    },
    {
      "cell_type": "code",
      "source": [
        "set1 = k_nn_classifier(20, 'minkowski', ['Flight'], 1, 1)"
      ],
      "metadata": {
        "colab": {
          "base_uri": "https://localhost:8080/"
        },
        "id": "C9WEEfzthr0n",
        "outputId": "7917e391-f31d-4c4e-ec5c-52dfa97cb5b9"
      },
      "execution_count": null,
      "outputs": [
        {
          "output_type": "stream",
          "name": "stdout",
          "text": [
            "Accuracy: 63.69 F1 Score: 58.29 Precision: 59.69 Recall: 56.96\n"
          ]
        }
      ]
    },
    {
      "cell_type": "markdown",
      "source": [
        "NEURAL NETWORKS"
      ],
      "metadata": {
        "id": "2p2ncOZrLJVP"
      }
    },
    {
      "cell_type": "code",
      "source": [
        "### ANN algorithm with hyperparameters tuning\n",
        "\n",
        "def ann_classifier(layers_activation, last_layer_activation, optimizer, loss, remove_var, balance, outliers):\n",
        "\n",
        "  data = airlines\n",
        "  for var in remove_var :\n",
        "    data = rmv_var(data, var)\n",
        "\n",
        "  #data = imbalance_data(data)\n",
        "  #data = rmv_outliers(data)\n",
        "\n",
        "  target = data['Class']\n",
        "  predictors = data.drop(['Class'], axis=1)\n",
        "\n",
        "  n_folds = 5\n",
        "\n",
        "  kf = KFold(n_splits=n_folds)\n",
        "\n",
        "  metr = []\n",
        "  conf_matrix = np.zeros((2,2))\n",
        "\n",
        "  for train_index, test_index in kf.split(predictors):\n",
        "\n",
        "    x_train, x_test = predictors.iloc[train_index], predictors.iloc[test_index]\n",
        "    y_train, y_test = target.iloc[train_index], target.iloc[test_index]\n",
        "\n",
        "    data_train = pd.concat([x_train, y_train], axis=1);\n",
        "\n",
        "    if balance == 1:\n",
        "      data_train = imbalance_data(data_train)\n",
        "    if outliers == 1:\n",
        "      data_train = rmv_outliers(data_train)\n",
        "\n",
        "    x_train = data_train.drop(['Class'], axis=1)\n",
        "    y_train = data_train['Class']\n",
        "\n",
        "    clf = keras.models.Sequential()\n",
        "    clf.add(Dense(units=305, activation=layers_activation))\n",
        "    clf.add(Dropout(0.1))\n",
        "    clf.add(Dense(units=153, activation=layers_activation))\n",
        "    clf.add(Dropout(0.1))\n",
        "    clf.add(Dense(units=1, activation=last_layer_activation));\n",
        "\n",
        "\n",
        "    clf.compile(optimizer = optimizer, loss = loss, metrics = ['accuracy'])\n",
        "    clf.fit(x_train, y_train, batch_size = 32, epochs = 15)\n",
        "\n",
        "    y_pred = clf.predict(x_test)\n",
        "    y_pred = (y_pred > 0.5) ## threshold\n",
        "\n",
        "    conf_matrix += confusion_matrix(y_test, y_pred)\n",
        "\n",
        "  print(\"Confusion matrix:\\n\\n\")\n",
        "  print(conf_matrix)\n",
        "  print(\"\\n\\n\")\n",
        "\n",
        "  tn = conf_matrix[0,0]\n",
        "  fp = conf_matrix[0,1]\n",
        "  fn = conf_matrix[1,0]\n",
        "  tp = conf_matrix[1,1]\n",
        "\n",
        "  accuracy = (tp + tn) / (tp + tn + fp + fn)\n",
        "  precision = tp / (tp + fp)\n",
        "  recall = tp / (tp + fn)\n",
        "  f1 = 2 * (precision * recall) / (precision + recall)\n",
        "\n",
        "  metr.append(round(accuracy * 100, 2))\n",
        "  metr.append(round(f1 * 100, 2))\n",
        "  metr.append(round(precision * 100, 2))\n",
        "  metr.append(round(recall * 100, 2))\n",
        "\n",
        "  print(f\"Accuracy: {round(accuracy * 100, 2)} \" + f\"F1 Score: {round(f1 * 100, 2)} \" + f\"Precision: {round(precision * 100, 2)} \" + f\"Recall: {round(recall * 100, 2)}\")\n",
        "  return metr"
      ],
      "metadata": {
        "id": "0mruLhxmLSed"
      },
      "execution_count": null,
      "outputs": []
    },
    {
      "cell_type": "code",
      "source": [
        "## After many tests with types of activation functions (sigmoid, relu and LeakyRelu) and optimization functions (sgd or adam) I chose the option:\n",
        "\n",
        "set1 = ann_classifier('LeakyReLU', 'sigmoid', 'adam', 'binary_crossentropy', ['Flight'], 1, 1);"
      ],
      "metadata": {
        "id": "TU0T2Z5e3kEj"
      },
      "execution_count": null,
      "outputs": []
    },
    {
      "cell_type": "markdown",
      "source": [
        "SVM"
      ],
      "metadata": {
        "id": "XKRVE2pTLN9E"
      }
    },
    {
      "cell_type": "code",
      "source": [
        "### SVM algorithm\n",
        "\n",
        "def svm_classifier(kernel, gamma, remove_var, balance, outliers):\n",
        "\n",
        "  data = airlines\n",
        "  for var in remove_var :\n",
        "    data = rmv_var(data, var)\n",
        "\n",
        "  #data = imbalance_data(data)\n",
        "  #data = rmv_outliers(data)\n",
        "\n",
        "  target = data['Class']\n",
        "  predictors = data.drop(['Class'], axis=1)\n",
        "\n",
        "  n_folds = 5\n",
        "\n",
        "  kf = KFold(n_splits=n_folds)\n",
        "\n",
        "  metrics = []\n",
        "  conf_matrix = np.zeros((2,2))\n",
        "\n",
        "  for train_index, test_index in kf.split(predictors):\n",
        "\n",
        "    x_train, x_test = predictors.iloc[train_index], predictors.iloc[test_index]\n",
        "    y_train, y_test = target.iloc[train_index], target.iloc[test_index]\n",
        "\n",
        "    data_train = pd.concat([x_train, y_train], axis=1);\n",
        "\n",
        "    if balance == 1:\n",
        "      data_train = imbalance_data(data_train)\n",
        "    if outliers == 1:\n",
        "      data_train = rmv_outliers(data_train)\n",
        "\n",
        "    x_train = data_train.drop(['Class'], axis=1)\n",
        "    y_train = data_train['Class']\n",
        "\n",
        "    clf = svm.SVC(kernel = kernel, gamma = gamma, random_state = 42)\n",
        "    clf.fit(x_train, y_train)\n",
        "\n",
        "    y_pred = clf.predict(x_test)\n",
        "    conf_matrix += confusion_matrix(y_test, y_pred)\n",
        "\n",
        "  tn = conf_matrix[0,0]\n",
        "  fp = conf_matrix[0,1]\n",
        "  fn = conf_matrix[1,0]\n",
        "  tp = conf_matrix[1,1]\n",
        "\n",
        "  print(\"Confusion matrix:\\n\\n\")\n",
        "  print(conf_matrix)\n",
        "  print(\"\\n\\n\")\n",
        "\n",
        "  accuracy = (tp + tn) / (tp + tn + fp + fn)\n",
        "  precision = tp / (tp + fp)\n",
        "  recall = tp / (tp + fn)\n",
        "  f1 = 2 * (precision * recall) / (precision + recall)\n",
        "\n",
        "  metrics.append(round(accuracy * 100, 2))\n",
        "  metrics.append(round(f1 * 100, 2))\n",
        "  metrics.append(round(precision * 100, 2))\n",
        "  metrics.append(round(recall * 100, 2))\n",
        "\n",
        "  print(f\"Accuracy: {round(accuracy * 100, 2)} \" + f\"F1 Score: {round(f1 * 100, 2)} \" + f\"Precision: {round(precision * 100, 2)} \" + f\"Recall: {round(recall * 100, 2)}\")\n",
        "  return metrics"
      ],
      "metadata": {
        "id": "uk9-j-1Obvdr"
      },
      "execution_count": null,
      "outputs": []
    },
    {
      "cell_type": "code",
      "source": [
        "### Choose the best model for us\n",
        "\n",
        "set2 = svm_classifier('linear', 'scale', ['Flight'], 1, 1)\n"
      ],
      "metadata": {
        "id": "F8fyxUOljsFn"
      },
      "execution_count": null,
      "outputs": []
    },
    {
      "cell_type": "markdown",
      "source": [
        "# See best models for all algorithms"
      ],
      "metadata": {
        "id": "twtq-tINMcwR"
      }
    },
    {
      "cell_type": "code",
      "source": [
        "print(\"Decision tree classifier: \\n\\n\")\n",
        "dt = decision_tree_classifier('gini', 13, ['Flight'], 1, 1)\n",
        "print(\"\\n\\n\")\n",
        "\n",
        "print(\"Random forest classifier: \\n\\n\")\n",
        "rf = random_forest_classifier(50, 'gini', 13, ['Flight'], 1, 1)\n",
        "print(\"\\n\\n\")\n",
        "\n",
        "print(\"XG boost classifier: \\n\\n\")\n",
        "xg = xg_boost_classifier(50, 10, 0.3, ['Flight'], 1, 1)\n",
        "print(\"\\n\\n\")\n",
        "\n",
        "print(\"Logistic regression classifier: \\n\\n\")\n",
        "lr = logistic_regression_classifier('liblinear', 'auto', 'l2', 300, ['Flight'], 1, 1)\n",
        "print(\"\\n\\n\")\n",
        "\n",
        "print(\"Naive bayes classifier: \\n\\n\")\n",
        "bn = bayes_naive_classifier(['Flight'], 1, 1)\n",
        "print(\"\\n\\n\")\n",
        "\n",
        "print(\"K-NN classifier: \\n\\n\")\n",
        "knn = k_nn_classifier(20, 'minkowski', ['Flight'], 1, 1)\n",
        "print(\"\\n\\n\")\n",
        "\n",
        "sets = []\n",
        "sets.append(dt)\n",
        "sets.append(rf)\n",
        "sets.append(xg)\n",
        "sets.append(lr)\n",
        "sets.append(bn)\n",
        "sets.append(knn)\n",
        "\n",
        "colors = ['tab:blue', 'tab:green', 'tab:red', 'tab:orange', 'tab:purple', 'tab:pink', 'tab:black', 'tab:yellow']\n",
        "labels = ['Accuracy', 'F1 Score', 'Precision', 'Recall']\n",
        "methods = ['DT', 'RF', 'XG', 'LR', 'BN', 'KNN']\n",
        "\n",
        "num_sets = len(sets)\n",
        "fig, ax = plt.subplots()\n",
        "\n",
        "bottoms = np.zeros(len(labels)) # inițializăm poziția de jos a fiecărei bare cu 0\n",
        "\n",
        "for i in range(num_sets):\n",
        "    x = np.arange(len(labels))\n",
        "    ax.bar(x, sets[i], 0.10, bottom=bottoms, color=colors[i], label=methods[i])\n",
        "    bottoms += sets[i] # actualizăm poziția de jos a fiecărei bare cu valoarea curentă a setului\n",
        "\n",
        "ax.legend(bbox_to_anchor=(1.05, 1), loc='upper left')\n",
        "ax.set_ylim([0, 350])\n",
        "ax.set_xticks(x)\n",
        "ax.set_xticklabels(labels)\n",
        "\n",
        "plt.show()\n",
        "\n",
        "plot(sets, 0.10)\n",
        "\n",
        "set1 = ann_classifier('LeakyReLU', 'sigmoid', 'adam', 'binary_crossentropy', ['Flight'], 1, 1);\n",
        "set2 = svm_classifier('linear', 'scale', ['Flight'], 1, 1)"
      ],
      "metadata": {
        "colab": {
          "base_uri": "https://localhost:8080/",
          "height": 1000
        },
        "id": "zav2RaCCMmH2",
        "outputId": "ee6bbb91-79a8-4d9b-9506-380c086f40cc"
      },
      "execution_count": null,
      "outputs": [
        {
          "output_type": "stream",
          "name": "stdout",
          "text": [
            "Decision tree classifier: \n",
            "\n",
            "\n",
            "Confusion matrix:\n",
            "\n",
            "\n",
            "[[199173.  99945.]\n",
            " [ 94439. 145825.]]\n",
            "\n",
            "\n",
            "\n",
            "Accuracy: 63.96 F1 Score: 60.01 Precision: 59.33 Recall: 60.69\n",
            "\n",
            "\n",
            "\n",
            "Random forest classifier: \n",
            "\n",
            "\n",
            "Confusion matrix:\n",
            "\n",
            "\n",
            "[[212132.  86986.]\n",
            " [ 98597. 141667.]]\n",
            "\n",
            "\n",
            "\n",
            "Accuracy: 65.59 F1 Score: 60.42 Precision: 61.96 Recall: 58.96\n",
            "\n",
            "\n",
            "\n",
            "XG boost classifier: \n",
            "\n",
            "\n",
            "Confusion matrix:\n",
            "\n",
            "\n",
            "[[209899.  89219.]\n",
            " [ 94516. 145748.]]\n",
            "\n",
            "\n",
            "\n",
            "Accuracy: 65.94 F1 Score: 61.34 Precision: 62.03 Recall: 60.66\n",
            "\n",
            "\n",
            "\n",
            "Logistic regression classifier: \n",
            "\n",
            "\n",
            "Confusion matrix:\n",
            "\n",
            "\n",
            "[[171623. 127495.]\n",
            " [100906. 139358.]]\n",
            "\n",
            "\n",
            "\n",
            "Accuracy: 57.66 F1 Score: 54.96 Precision: 52.22 Recall: 58.0\n",
            "\n",
            "\n",
            "\n",
            "Naive bayes classifier: \n",
            "\n",
            "\n",
            "Confusion matrix:\n",
            "\n",
            "\n",
            "[[163742. 135376.]\n",
            " [ 93432. 146832.]]\n",
            "\n",
            "\n",
            "\n",
            "Accuracy: 57.58 F1 Score: 56.21 Precision: 52.03 Recall: 61.11\n",
            "\n",
            "\n",
            "\n",
            "K-NN classifier: \n",
            "\n",
            "\n",
            "Confusion matrix:\n",
            "\n",
            "\n",
            "[[206675.  92443.]\n",
            " [103405. 136859.]]\n",
            "\n",
            "\n",
            "\n",
            "Accuracy: 63.69 F1 Score: 58.29 Precision: 59.69 Recall: 56.96\n",
            "\n",
            "\n",
            "\n"
          ]
        },
        {
          "output_type": "display_data",
          "data": {
            "text/plain": [
              "<Figure size 640x480 with 1 Axes>"
            ],
            "image/png": "[encoded data removed]"
          },
          "metadata": {}
        },
        {
          "output_type": "display_data",
          "data": {
            "text/plain": [
              "<Figure size 640x480 with 1 Axes>"
            ],
            "image/png": "[encoded data removed]"
          },
          "metadata": {}
        },
        {
          "output_type": "stream",
          "name": "stdout",
          "text": [
            "Epoch 1/15\n",
            "14686/14686 [==============================] - 61s 4ms/step - loss: 0.8569 - accuracy: 0.5443\n",
            "Epoch 2/15\n",
            "14686/14686 [==============================] - 58s 4ms/step - loss: 0.6841 - accuracy: 0.5608\n",
            "Epoch 3/15\n",
            "14686/14686 [==============================] - 62s 4ms/step - loss: 0.6830 - accuracy: 0.5635\n",
            "Epoch 4/15\n",
            "14686/14686 [==============================] - 59s 4ms/step - loss: 0.6825 - accuracy: 0.5645\n",
            "Epoch 5/15\n",
            "14686/14686 [==============================] - 59s 4ms/step - loss: 0.6823 - accuracy: 0.5641\n",
            "Epoch 6/15\n",
            "14686/14686 [==============================] - 61s 4ms/step - loss: 0.6821 - accuracy: 0.5645\n",
            "Epoch 7/15\n",
            "14686/14686 [==============================] - 57s 4ms/step - loss: 0.6816 - accuracy: 0.5655\n",
            "Epoch 8/15\n",
            "14686/14686 [==============================] - 57s 4ms/step - loss: 0.6816 - accuracy: 0.5663\n",
            "Epoch 9/15\n",
            "14686/14686 [==============================] - 53s 4ms/step - loss: 0.6810 - accuracy: 0.5682\n",
            "Epoch 10/15\n",
            "14686/14686 [==============================] - 56s 4ms/step - loss: 0.6809 - accuracy: 0.5678\n",
            "Epoch 11/15\n",
            "14686/14686 [==============================] - 56s 4ms/step - loss: 0.6807 - accuracy: 0.5679\n",
            "Epoch 12/15\n",
            "14686/14686 [==============================] - 56s 4ms/step - loss: 0.6806 - accuracy: 0.5689\n",
            "Epoch 13/15\n",
            "14686/14686 [==============================] - 55s 4ms/step - loss: 0.6799 - accuracy: 0.5705\n",
            "Epoch 14/15\n",
            "14686/14686 [==============================] - 54s 4ms/step - loss: 0.6803 - accuracy: 0.5689\n",
            "Epoch 15/15\n",
            "14686/14686 [==============================] - 58s 4ms/step - loss: 0.6801 - accuracy: 0.5692\n",
            "3372/3372 [==============================] - 5s 1ms/step\n",
            "Epoch 1/15\n",
            "14685/14685 [==============================] - 58s 4ms/step - loss: 0.8962 - accuracy: 0.5438\n",
            "Epoch 2/15\n",
            "14685/14685 [==============================] - 54s 4ms/step - loss: 0.6839 - accuracy: 0.5616\n",
            "Epoch 3/15\n",
            "14685/14685 [==============================] - 52s 4ms/step - loss: 0.6828 - accuracy: 0.5627\n",
            "Epoch 4/15\n",
            "14685/14685 [==============================] - 55s 4ms/step - loss: 0.6828 - accuracy: 0.5628\n",
            "Epoch 5/15\n",
            "14685/14685 [==============================] - 55s 4ms/step - loss: 0.6822 - accuracy: 0.5649\n",
            "Epoch 6/15\n",
            "14685/14685 [==============================] - 52s 4ms/step - loss: 0.6821 - accuracy: 0.5651\n",
            "Epoch 7/15\n",
            "14685/14685 [==============================] - 52s 4ms/step - loss: 0.6819 - accuracy: 0.5655\n",
            "Epoch 8/15\n",
            "14685/14685 [==============================] - 53s 4ms/step - loss: 0.6816 - accuracy: 0.5659\n",
            "Epoch 9/15\n",
            "14685/14685 [==============================] - 58s 4ms/step - loss: 0.6812 - accuracy: 0.5673\n",
            "Epoch 10/15\n",
            "14685/14685 [==============================] - 55s 4ms/step - loss: 0.6810 - accuracy: 0.5670\n",
            "Epoch 11/15\n",
            "14685/14685 [==============================] - 54s 4ms/step - loss: 0.6807 - accuracy: 0.5671\n",
            "Epoch 12/15\n",
            "14685/14685 [==============================] - 55s 4ms/step - loss: 0.6809 - accuracy: 0.5674\n",
            "Epoch 13/15\n",
            "14685/14685 [==============================] - 57s 4ms/step - loss: 0.6805 - accuracy: 0.5680\n",
            "Epoch 14/15\n",
            "14685/14685 [==============================] - 56s 4ms/step - loss: 0.6799 - accuracy: 0.5693\n",
            "Epoch 15/15\n",
            "14685/14685 [==============================] - 57s 4ms/step - loss: 0.6800 - accuracy: 0.5695\n",
            "3372/3372 [==============================] - 6s 2ms/step\n",
            "Epoch 1/15\n",
            "14684/14684 [==============================] - 56s 4ms/step - loss: 0.8601 - accuracy: 0.5450\n",
            "Epoch 2/15\n",
            "14684/14684 [==============================] - 62s 4ms/step - loss: 0.6838 - accuracy: 0.5616\n",
            "Epoch 3/15\n",
            "14684/14684 [==============================] - 63s 4ms/step - loss: 0.6829 - accuracy: 0.5627\n",
            "Epoch 4/15\n",
            "14684/14684 [==============================] - 67s 5ms/step - loss: 0.6827 - accuracy: 0.5642\n",
            "Epoch 5/15\n",
            "14684/14684 [==============================] - 64s 4ms/step - loss: 0.6823 - accuracy: 0.5652\n",
            "Epoch 6/15\n",
            "14684/14684 [==============================] - 62s 4ms/step - loss: 0.6820 - accuracy: 0.5646\n",
            "Epoch 7/15\n",
            "14684/14684 [==============================] - 56s 4ms/step - loss: 0.6819 - accuracy: 0.5657\n",
            "Epoch 8/15\n",
            "14684/14684 [==============================] - 54s 4ms/step - loss: 0.6813 - accuracy: 0.5662\n",
            "Epoch 9/15\n",
            "14684/14684 [==============================] - 52s 4ms/step - loss: 0.6815 - accuracy: 0.5668\n",
            "Epoch 10/15\n",
            "14684/14684 [==============================] - 52s 4ms/step - loss: 0.6809 - accuracy: 0.5671\n",
            "Epoch 11/15\n",
            "14684/14684 [==============================] - 56s 4ms/step - loss: 0.6808 - accuracy: 0.5677\n",
            "Epoch 12/15\n",
            "14684/14684 [==============================] - 51s 3ms/step - loss: 0.6806 - accuracy: 0.5682\n",
            "Epoch 13/15\n",
            "14684/14684 [==============================] - 48s 3ms/step - loss: 0.6802 - accuracy: 0.5685\n",
            "Epoch 14/15\n",
            "14684/14684 [==============================] - 53s 4ms/step - loss: 0.6801 - accuracy: 0.5692\n",
            "Epoch 15/15\n",
            "14684/14684 [==============================] - 55s 4ms/step - loss: 0.6797 - accuracy: 0.5707\n",
            "3372/3372 [==============================] - 5s 1ms/step\n",
            "Epoch 1/15\n",
            "14681/14681 [==============================] - 57s 4ms/step - loss: 0.8563 - accuracy: 0.5445\n",
            "Epoch 2/15\n",
            "14681/14681 [==============================] - 53s 4ms/step - loss: 0.6845 - accuracy: 0.5599\n",
            "Epoch 3/15\n",
            "14681/14681 [==============================] - 52s 4ms/step - loss: 0.6832 - accuracy: 0.5630\n",
            "Epoch 4/15\n",
            "14681/14681 [==============================] - 52s 4ms/step - loss: 0.6826 - accuracy: 0.5647\n",
            "Epoch 5/15\n",
            "14681/14681 [==============================] - 55s 4ms/step - loss: 0.6823 - accuracy: 0.5647\n",
            "Epoch 6/15\n",
            "14681/14681 [==============================] - 52s 4ms/step - loss: 0.6819 - accuracy: 0.5656\n",
            "Epoch 7/15\n",
            "14681/14681 [==============================] - 53s 4ms/step - loss: 0.6818 - accuracy: 0.5659\n",
            "Epoch 8/15\n",
            "14681/14681 [==============================] - 54s 4ms/step - loss: 0.6817 - accuracy: 0.5648\n",
            "Epoch 9/15\n",
            "14681/14681 [==============================] - 52s 4ms/step - loss: 0.6812 - accuracy: 0.5665\n",
            "Epoch 10/15\n",
            "14681/14681 [==============================] - 52s 4ms/step - loss: 0.6811 - accuracy: 0.5677\n",
            "Epoch 11/15\n",
            "14681/14681 [==============================] - 58s 4ms/step - loss: 0.6807 - accuracy: 0.5682\n",
            "Epoch 12/15\n",
            "14681/14681 [==============================] - 56s 4ms/step - loss: 0.6805 - accuracy: 0.5678\n",
            "Epoch 13/15\n",
            "14681/14681 [==============================] - 53s 4ms/step - loss: 0.6804 - accuracy: 0.5681\n",
            "Epoch 14/15\n",
            "14681/14681 [==============================] - 51s 3ms/step - loss: 0.6802 - accuracy: 0.5686\n",
            "Epoch 15/15\n",
            "14681/14681 [==============================] - 50s 3ms/step - loss: 0.6803 - accuracy: 0.5687\n",
            "3372/3372 [==============================] - 5s 1ms/step\n",
            "Epoch 1/15\n",
            "14682/14682 [==============================] - 52s 3ms/step - loss: 0.8299 - accuracy: 0.5450\n",
            "Epoch 2/15\n",
            "14682/14682 [==============================] - 51s 3ms/step - loss: 0.6843 - accuracy: 0.5600\n",
            "Epoch 3/15\n",
            "14682/14682 [==============================] - 50s 3ms/step - loss: 0.6837 - accuracy: 0.5615\n",
            "Epoch 4/15\n",
            "14682/14682 [==============================] - 51s 3ms/step - loss: 0.6827 - accuracy: 0.5634\n",
            "Epoch 5/15\n",
            "14682/14682 [==============================] - 51s 3ms/step - loss: 0.6827 - accuracy: 0.5646\n",
            "Epoch 6/15\n",
            "14682/14682 [==============================] - 55s 4ms/step - loss: 0.6825 - accuracy: 0.5640\n",
            "Epoch 7/15\n",
            "14682/14682 [==============================] - 55s 4ms/step - loss: 0.6820 - accuracy: 0.5647\n",
            "Epoch 8/15\n",
            "14682/14682 [==============================] - 52s 4ms/step - loss: 0.6816 - accuracy: 0.5658\n",
            "Epoch 9/15\n",
            "14682/14682 [==============================] - 54s 4ms/step - loss: 0.6814 - accuracy: 0.5665\n",
            "Epoch 10/15\n",
            "14682/14682 [==============================] - 51s 3ms/step - loss: 0.6815 - accuracy: 0.5662\n",
            "Epoch 11/15\n",
            "14682/14682 [==============================] - 53s 4ms/step - loss: 0.6811 - accuracy: 0.5672\n",
            "Epoch 12/15\n",
            "14682/14682 [==============================] - 51s 3ms/step - loss: 0.6809 - accuracy: 0.5672\n",
            "Epoch 13/15\n",
            "14682/14682 [==============================] - 53s 4ms/step - loss: 0.6808 - accuracy: 0.5676\n",
            "Epoch 14/15\n",
            "14682/14682 [==============================] - 51s 3ms/step - loss: 0.6807 - accuracy: 0.5679\n",
            "Epoch 15/15\n",
            "14682/14682 [==============================] - 50s 3ms/step - loss: 0.6805 - accuracy: 0.5678\n",
            "3372/3372 [==============================] - 6s 2ms/step\n",
            "Confusion matrix:\n",
            "\n",
            "\n",
            "[[178379. 120739.]\n",
            " [107346. 132918.]]\n",
            "\n",
            "\n",
            "\n",
            "Accuracy: 57.71 F1 Score: 53.82 Precision: 52.4 Recall: 55.32\n"
          ]
        }
      ]
    },
    {
      "cell_type": "code",
      "source": [],
      "metadata": {
        "id": "YNKBauk-RDDU"
      },
      "execution_count": null,
      "outputs": []
    }
  ]
}